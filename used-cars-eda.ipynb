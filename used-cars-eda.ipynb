{
 "cells": [
  {
   "cell_type": "code",
   "execution_count": 1,
   "id": "94de4fb3",
   "metadata": {
    "_cell_guid": "b1076dfc-b9ad-4769-8c92-a6c4dae69d19",
    "_uuid": "8f2839f25d086af736a60e9eeb907d3b93b6e0e5",
    "execution": {
     "iopub.execute_input": "2024-12-10T14:15:01.814682Z",
     "iopub.status.busy": "2024-12-10T14:15:01.814291Z",
     "iopub.status.idle": "2024-12-10T14:15:04.721235Z",
     "shell.execute_reply": "2024-12-10T14:15:04.720027Z"
    },
    "papermill": {
     "duration": 2.918849,
     "end_time": "2024-12-10T14:15:04.723684",
     "exception": false,
     "start_time": "2024-12-10T14:15:01.804835",
     "status": "completed"
    },
    "tags": []
   },
   "outputs": [],
   "source": [
    "import pandas as pd\n",
    "import numpy as np \n",
    "import matplotlib.pyplot as plt\n",
    "import seaborn as sns\n",
    "import os"
   ]
  },
  {
   "cell_type": "code",
   "execution_count": 2,
   "id": "07ae2c97",
   "metadata": {
    "execution": {
     "iopub.execute_input": "2024-12-10T14:15:04.742006Z",
     "iopub.status.busy": "2024-12-10T14:15:04.741453Z",
     "iopub.status.idle": "2024-12-10T14:15:04.753181Z",
     "shell.execute_reply": "2024-12-10T14:15:04.751972Z"
    },
    "papermill": {
     "duration": 0.024229,
     "end_time": "2024-12-10T14:15:04.755675",
     "exception": false,
     "start_time": "2024-12-10T14:15:04.731446",
     "status": "completed"
    },
    "tags": []
   },
   "outputs": [
    {
     "name": "stdout",
     "output_type": "stream",
     "text": [
      "['vehicles.csv']\n"
     ]
    }
   ],
   "source": [
    "df = '/kaggle/input/craigslist-carstrucks-data'\n",
    "files = os.listdir(df)\n",
    "print(files)"
   ]
  },
  {
   "cell_type": "code",
   "execution_count": 3,
   "id": "fabcaa3b",
   "metadata": {
    "execution": {
     "iopub.execute_input": "2024-12-10T14:15:04.773110Z",
     "iopub.status.busy": "2024-12-10T14:15:04.772722Z",
     "iopub.status.idle": "2024-12-10T14:15:04.778522Z",
     "shell.execute_reply": "2024-12-10T14:15:04.777341Z"
    },
    "papermill": {
     "duration": 0.017359,
     "end_time": "2024-12-10T14:15:04.781014",
     "exception": false,
     "start_time": "2024-12-10T14:15:04.763655",
     "status": "completed"
    },
    "tags": []
   },
   "outputs": [],
   "source": [
    "csv_file = 'vehicles.csv'"
   ]
  },
  {
   "cell_type": "code",
   "execution_count": 4,
   "id": "18660700",
   "metadata": {
    "execution": {
     "iopub.execute_input": "2024-12-10T14:15:04.797957Z",
     "iopub.status.busy": "2024-12-10T14:15:04.797553Z",
     "iopub.status.idle": "2024-12-10T14:15:04.802844Z",
     "shell.execute_reply": "2024-12-10T14:15:04.801642Z"
    },
    "papermill": {
     "duration": 0.016466,
     "end_time": "2024-12-10T14:15:04.805272",
     "exception": false,
     "start_time": "2024-12-10T14:15:04.788806",
     "status": "completed"
    },
    "tags": []
   },
   "outputs": [],
   "source": [
    "file_path = os.path.join(df, csv_file)"
   ]
  },
  {
   "cell_type": "code",
   "execution_count": 5,
   "id": "b068ca89",
   "metadata": {
    "execution": {
     "iopub.execute_input": "2024-12-10T14:15:04.822522Z",
     "iopub.status.busy": "2024-12-10T14:15:04.822123Z",
     "iopub.status.idle": "2024-12-10T14:15:55.381707Z",
     "shell.execute_reply": "2024-12-10T14:15:55.380507Z"
    },
    "papermill": {
     "duration": 50.577972,
     "end_time": "2024-12-10T14:15:55.391064",
     "exception": false,
     "start_time": "2024-12-10T14:15:04.813092",
     "status": "completed"
    },
    "tags": []
   },
   "outputs": [
    {
     "data": {
      "text/html": [
       "<div>\n",
       "<style scoped>\n",
       "    .dataframe tbody tr th:only-of-type {\n",
       "        vertical-align: middle;\n",
       "    }\n",
       "\n",
       "    .dataframe tbody tr th {\n",
       "        vertical-align: top;\n",
       "    }\n",
       "\n",
       "    .dataframe thead th {\n",
       "        text-align: right;\n",
       "    }\n",
       "</style>\n",
       "<table border=\"1\" class=\"dataframe\">\n",
       "  <thead>\n",
       "    <tr style=\"text-align: right;\">\n",
       "      <th></th>\n",
       "      <th>id</th>\n",
       "      <th>url</th>\n",
       "      <th>region</th>\n",
       "      <th>region_url</th>\n",
       "      <th>price</th>\n",
       "      <th>year</th>\n",
       "      <th>manufacturer</th>\n",
       "      <th>model</th>\n",
       "      <th>condition</th>\n",
       "      <th>cylinders</th>\n",
       "      <th>...</th>\n",
       "      <th>size</th>\n",
       "      <th>type</th>\n",
       "      <th>paint_color</th>\n",
       "      <th>image_url</th>\n",
       "      <th>description</th>\n",
       "      <th>county</th>\n",
       "      <th>state</th>\n",
       "      <th>lat</th>\n",
       "      <th>long</th>\n",
       "      <th>posting_date</th>\n",
       "    </tr>\n",
       "  </thead>\n",
       "  <tbody>\n",
       "    <tr>\n",
       "      <th>0</th>\n",
       "      <td>7222695916</td>\n",
       "      <td>https://prescott.craigslist.org/cto/d/prescott...</td>\n",
       "      <td>prescott</td>\n",
       "      <td>https://prescott.craigslist.org</td>\n",
       "      <td>6000</td>\n",
       "      <td>NaN</td>\n",
       "      <td>NaN</td>\n",
       "      <td>NaN</td>\n",
       "      <td>NaN</td>\n",
       "      <td>NaN</td>\n",
       "      <td>...</td>\n",
       "      <td>NaN</td>\n",
       "      <td>NaN</td>\n",
       "      <td>NaN</td>\n",
       "      <td>NaN</td>\n",
       "      <td>NaN</td>\n",
       "      <td>NaN</td>\n",
       "      <td>az</td>\n",
       "      <td>NaN</td>\n",
       "      <td>NaN</td>\n",
       "      <td>NaN</td>\n",
       "    </tr>\n",
       "    <tr>\n",
       "      <th>1</th>\n",
       "      <td>7218891961</td>\n",
       "      <td>https://fayar.craigslist.org/ctd/d/bentonville...</td>\n",
       "      <td>fayetteville</td>\n",
       "      <td>https://fayar.craigslist.org</td>\n",
       "      <td>11900</td>\n",
       "      <td>NaN</td>\n",
       "      <td>NaN</td>\n",
       "      <td>NaN</td>\n",
       "      <td>NaN</td>\n",
       "      <td>NaN</td>\n",
       "      <td>...</td>\n",
       "      <td>NaN</td>\n",
       "      <td>NaN</td>\n",
       "      <td>NaN</td>\n",
       "      <td>NaN</td>\n",
       "      <td>NaN</td>\n",
       "      <td>NaN</td>\n",
       "      <td>ar</td>\n",
       "      <td>NaN</td>\n",
       "      <td>NaN</td>\n",
       "      <td>NaN</td>\n",
       "    </tr>\n",
       "    <tr>\n",
       "      <th>2</th>\n",
       "      <td>7221797935</td>\n",
       "      <td>https://keys.craigslist.org/cto/d/summerland-k...</td>\n",
       "      <td>florida keys</td>\n",
       "      <td>https://keys.craigslist.org</td>\n",
       "      <td>21000</td>\n",
       "      <td>NaN</td>\n",
       "      <td>NaN</td>\n",
       "      <td>NaN</td>\n",
       "      <td>NaN</td>\n",
       "      <td>NaN</td>\n",
       "      <td>...</td>\n",
       "      <td>NaN</td>\n",
       "      <td>NaN</td>\n",
       "      <td>NaN</td>\n",
       "      <td>NaN</td>\n",
       "      <td>NaN</td>\n",
       "      <td>NaN</td>\n",
       "      <td>fl</td>\n",
       "      <td>NaN</td>\n",
       "      <td>NaN</td>\n",
       "      <td>NaN</td>\n",
       "    </tr>\n",
       "    <tr>\n",
       "      <th>3</th>\n",
       "      <td>7222270760</td>\n",
       "      <td>https://worcester.craigslist.org/cto/d/west-br...</td>\n",
       "      <td>worcester / central MA</td>\n",
       "      <td>https://worcester.craigslist.org</td>\n",
       "      <td>1500</td>\n",
       "      <td>NaN</td>\n",
       "      <td>NaN</td>\n",
       "      <td>NaN</td>\n",
       "      <td>NaN</td>\n",
       "      <td>NaN</td>\n",
       "      <td>...</td>\n",
       "      <td>NaN</td>\n",
       "      <td>NaN</td>\n",
       "      <td>NaN</td>\n",
       "      <td>NaN</td>\n",
       "      <td>NaN</td>\n",
       "      <td>NaN</td>\n",
       "      <td>ma</td>\n",
       "      <td>NaN</td>\n",
       "      <td>NaN</td>\n",
       "      <td>NaN</td>\n",
       "    </tr>\n",
       "    <tr>\n",
       "      <th>4</th>\n",
       "      <td>7210384030</td>\n",
       "      <td>https://greensboro.craigslist.org/cto/d/trinit...</td>\n",
       "      <td>greensboro</td>\n",
       "      <td>https://greensboro.craigslist.org</td>\n",
       "      <td>4900</td>\n",
       "      <td>NaN</td>\n",
       "      <td>NaN</td>\n",
       "      <td>NaN</td>\n",
       "      <td>NaN</td>\n",
       "      <td>NaN</td>\n",
       "      <td>...</td>\n",
       "      <td>NaN</td>\n",
       "      <td>NaN</td>\n",
       "      <td>NaN</td>\n",
       "      <td>NaN</td>\n",
       "      <td>NaN</td>\n",
       "      <td>NaN</td>\n",
       "      <td>nc</td>\n",
       "      <td>NaN</td>\n",
       "      <td>NaN</td>\n",
       "      <td>NaN</td>\n",
       "    </tr>\n",
       "  </tbody>\n",
       "</table>\n",
       "<p>5 rows × 26 columns</p>\n",
       "</div>"
      ],
      "text/plain": [
       "           id                                                url  \\\n",
       "0  7222695916  https://prescott.craigslist.org/cto/d/prescott...   \n",
       "1  7218891961  https://fayar.craigslist.org/ctd/d/bentonville...   \n",
       "2  7221797935  https://keys.craigslist.org/cto/d/summerland-k...   \n",
       "3  7222270760  https://worcester.craigslist.org/cto/d/west-br...   \n",
       "4  7210384030  https://greensboro.craigslist.org/cto/d/trinit...   \n",
       "\n",
       "                   region                         region_url  price  year  \\\n",
       "0                prescott    https://prescott.craigslist.org   6000   NaN   \n",
       "1            fayetteville       https://fayar.craigslist.org  11900   NaN   \n",
       "2            florida keys        https://keys.craigslist.org  21000   NaN   \n",
       "3  worcester / central MA   https://worcester.craigslist.org   1500   NaN   \n",
       "4              greensboro  https://greensboro.craigslist.org   4900   NaN   \n",
       "\n",
       "  manufacturer model condition cylinders  ... size  type paint_color  \\\n",
       "0          NaN   NaN       NaN       NaN  ...  NaN   NaN         NaN   \n",
       "1          NaN   NaN       NaN       NaN  ...  NaN   NaN         NaN   \n",
       "2          NaN   NaN       NaN       NaN  ...  NaN   NaN         NaN   \n",
       "3          NaN   NaN       NaN       NaN  ...  NaN   NaN         NaN   \n",
       "4          NaN   NaN       NaN       NaN  ...  NaN   NaN         NaN   \n",
       "\n",
       "  image_url description county state lat long posting_date  \n",
       "0       NaN         NaN    NaN    az NaN  NaN          NaN  \n",
       "1       NaN         NaN    NaN    ar NaN  NaN          NaN  \n",
       "2       NaN         NaN    NaN    fl NaN  NaN          NaN  \n",
       "3       NaN         NaN    NaN    ma NaN  NaN          NaN  \n",
       "4       NaN         NaN    NaN    nc NaN  NaN          NaN  \n",
       "\n",
       "[5 rows x 26 columns]"
      ]
     },
     "execution_count": 5,
     "metadata": {},
     "output_type": "execute_result"
    }
   ],
   "source": [
    "df = pd.read_csv(file_path)\n",
    "df.head()"
   ]
  },
  {
   "cell_type": "code",
   "execution_count": 6,
   "id": "b3e75cc0",
   "metadata": {
    "execution": {
     "iopub.execute_input": "2024-12-10T14:15:55.408996Z",
     "iopub.status.busy": "2024-12-10T14:15:55.408054Z",
     "iopub.status.idle": "2024-12-10T14:15:55.415481Z",
     "shell.execute_reply": "2024-12-10T14:15:55.414372Z"
    },
    "papermill": {
     "duration": 0.018907,
     "end_time": "2024-12-10T14:15:55.417868",
     "exception": false,
     "start_time": "2024-12-10T14:15:55.398961",
     "status": "completed"
    },
    "tags": []
   },
   "outputs": [
    {
     "data": {
      "text/plain": [
       "(426880, 26)"
      ]
     },
     "execution_count": 6,
     "metadata": {},
     "output_type": "execute_result"
    }
   ],
   "source": [
    "df.shape"
   ]
  },
  {
   "cell_type": "code",
   "execution_count": 7,
   "id": "e660577f",
   "metadata": {
    "execution": {
     "iopub.execute_input": "2024-12-10T14:15:55.436487Z",
     "iopub.status.busy": "2024-12-10T14:15:55.436090Z",
     "iopub.status.idle": "2024-12-10T14:15:55.444582Z",
     "shell.execute_reply": "2024-12-10T14:15:55.443491Z"
    },
    "papermill": {
     "duration": 0.020256,
     "end_time": "2024-12-10T14:15:55.446843",
     "exception": false,
     "start_time": "2024-12-10T14:15:55.426587",
     "status": "completed"
    },
    "tags": []
   },
   "outputs": [
    {
     "data": {
      "text/plain": [
       "id                int64\n",
       "url              object\n",
       "region           object\n",
       "region_url       object\n",
       "price             int64\n",
       "year            float64\n",
       "manufacturer     object\n",
       "model            object\n",
       "condition        object\n",
       "cylinders        object\n",
       "fuel             object\n",
       "odometer        float64\n",
       "title_status     object\n",
       "transmission     object\n",
       "VIN              object\n",
       "drive            object\n",
       "size             object\n",
       "type             object\n",
       "paint_color      object\n",
       "image_url        object\n",
       "description      object\n",
       "county          float64\n",
       "state            object\n",
       "lat             float64\n",
       "long            float64\n",
       "posting_date     object\n",
       "dtype: object"
      ]
     },
     "execution_count": 7,
     "metadata": {},
     "output_type": "execute_result"
    }
   ],
   "source": [
    "df.dtypes"
   ]
  },
  {
   "cell_type": "code",
   "execution_count": 8,
   "id": "93c26795",
   "metadata": {
    "execution": {
     "iopub.execute_input": "2024-12-10T14:15:55.465603Z",
     "iopub.status.busy": "2024-12-10T14:15:55.464707Z",
     "iopub.status.idle": "2024-12-10T14:15:55.896436Z",
     "shell.execute_reply": "2024-12-10T14:15:55.895344Z"
    },
    "papermill": {
     "duration": 0.443562,
     "end_time": "2024-12-10T14:15:55.898903",
     "exception": false,
     "start_time": "2024-12-10T14:15:55.455341",
     "status": "completed"
    },
    "tags": []
   },
   "outputs": [
    {
     "data": {
      "text/plain": [
       "id                   0\n",
       "url                  0\n",
       "region               0\n",
       "region_url           0\n",
       "price                0\n",
       "year              1205\n",
       "manufacturer     17646\n",
       "model             5277\n",
       "condition       174104\n",
       "cylinders       177678\n",
       "fuel              3013\n",
       "odometer          4400\n",
       "title_status      8242\n",
       "transmission      2556\n",
       "VIN             161042\n",
       "drive           130567\n",
       "size            306361\n",
       "type             92858\n",
       "paint_color     130203\n",
       "image_url           68\n",
       "description         70\n",
       "county          426880\n",
       "state                0\n",
       "lat               6549\n",
       "long              6549\n",
       "posting_date        68\n",
       "dtype: int64"
      ]
     },
     "execution_count": 8,
     "metadata": {},
     "output_type": "execute_result"
    }
   ],
   "source": [
    "df.isnull().sum()"
   ]
  },
  {
   "cell_type": "code",
   "execution_count": 9,
   "id": "64ba9736",
   "metadata": {
    "execution": {
     "iopub.execute_input": "2024-12-10T14:15:55.917468Z",
     "iopub.status.busy": "2024-12-10T14:15:55.917074Z",
     "iopub.status.idle": "2024-12-10T14:15:55.928612Z",
     "shell.execute_reply": "2024-12-10T14:15:55.927308Z"
    },
    "papermill": {
     "duration": 0.023818,
     "end_time": "2024-12-10T14:15:55.931032",
     "exception": false,
     "start_time": "2024-12-10T14:15:55.907214",
     "status": "completed"
    },
    "tags": []
   },
   "outputs": [],
   "source": [
    "df['year'] = df['year'].fillna(df['year'].mean())"
   ]
  },
  {
   "cell_type": "code",
   "execution_count": 10,
   "id": "4203a6aa",
   "metadata": {
    "execution": {
     "iopub.execute_input": "2024-12-10T14:15:55.949989Z",
     "iopub.status.busy": "2024-12-10T14:15:55.949071Z",
     "iopub.status.idle": "2024-12-10T14:15:55.995361Z",
     "shell.execute_reply": "2024-12-10T14:15:55.994045Z"
    },
    "papermill": {
     "duration": 0.058189,
     "end_time": "2024-12-10T14:15:55.997582",
     "exception": false,
     "start_time": "2024-12-10T14:15:55.939393",
     "status": "completed"
    },
    "tags": []
   },
   "outputs": [
    {
     "data": {
      "text/plain": [
       "0    ford\n",
       "Name: manufacturer, dtype: object"
      ]
     },
     "execution_count": 10,
     "metadata": {},
     "output_type": "execute_result"
    }
   ],
   "source": [
    "df['manufacturer'].mode()"
   ]
  },
  {
   "cell_type": "code",
   "execution_count": 11,
   "id": "6ab4943c",
   "metadata": {
    "execution": {
     "iopub.execute_input": "2024-12-10T14:15:56.017367Z",
     "iopub.status.busy": "2024-12-10T14:15:56.016941Z",
     "iopub.status.idle": "2024-12-10T14:15:56.088299Z",
     "shell.execute_reply": "2024-12-10T14:15:56.087017Z"
    },
    "papermill": {
     "duration": 0.085372,
     "end_time": "2024-12-10T14:15:56.091475",
     "exception": false,
     "start_time": "2024-12-10T14:15:56.006103",
     "status": "completed"
    },
    "tags": []
   },
   "outputs": [],
   "source": [
    "df['manufacturer'] = df['manufacturer'].fillna(df['manufacturer'].mode()[0])"
   ]
  },
  {
   "cell_type": "code",
   "execution_count": 12,
   "id": "5a0879dc",
   "metadata": {
    "execution": {
     "iopub.execute_input": "2024-12-10T14:15:56.111174Z",
     "iopub.status.busy": "2024-12-10T14:15:56.110698Z",
     "iopub.status.idle": "2024-12-10T14:15:56.151401Z",
     "shell.execute_reply": "2024-12-10T14:15:56.149603Z"
    },
    "papermill": {
     "duration": 0.053959,
     "end_time": "2024-12-10T14:15:56.154103",
     "exception": false,
     "start_time": "2024-12-10T14:15:56.100144",
     "status": "completed"
    },
    "tags": []
   },
   "outputs": [],
   "source": [
    "df['model'] = df['model'].fillna('unknown')"
   ]
  },
  {
   "cell_type": "code",
   "execution_count": 13,
   "id": "42df3b95",
   "metadata": {
    "execution": {
     "iopub.execute_input": "2024-12-10T14:15:56.173236Z",
     "iopub.status.busy": "2024-12-10T14:15:56.172875Z",
     "iopub.status.idle": "2024-12-10T14:15:56.198036Z",
     "shell.execute_reply": "2024-12-10T14:15:56.196874Z"
    },
    "papermill": {
     "duration": 0.038066,
     "end_time": "2024-12-10T14:15:56.200714",
     "exception": false,
     "start_time": "2024-12-10T14:15:56.162648",
     "status": "completed"
    },
    "tags": []
   },
   "outputs": [],
   "source": [
    "numeric_columns = ['year', 'odometer', 'lat', 'long']\n",
    "for column in numeric_columns:\n",
    "    df[column] = df[column].fillna(df[column].mean())"
   ]
  },
  {
   "cell_type": "code",
   "execution_count": 14,
   "id": "76dc1490",
   "metadata": {
    "execution": {
     "iopub.execute_input": "2024-12-10T14:15:56.219901Z",
     "iopub.status.busy": "2024-12-10T14:15:56.219497Z",
     "iopub.status.idle": "2024-12-10T14:15:57.054639Z",
     "shell.execute_reply": "2024-12-10T14:15:57.053075Z"
    },
    "papermill": {
     "duration": 0.848349,
     "end_time": "2024-12-10T14:15:57.057846",
     "exception": false,
     "start_time": "2024-12-10T14:15:56.209497",
     "status": "completed"
    },
    "tags": []
   },
   "outputs": [],
   "source": [
    "categorical_columns = ['manufacturer', 'model', 'condition', 'cylinders', 'fuel', 'title_status', 'transmission', 'VIN', 'drive', 'size', 'type', 'paint_color']\n",
    "for column in categorical_columns:\n",
    "    df[column] = df[column].fillna(df[column].mode()[0])"
   ]
  },
  {
   "cell_type": "code",
   "execution_count": 15,
   "id": "93dd7a7d",
   "metadata": {
    "execution": {
     "iopub.execute_input": "2024-12-10T14:15:57.077353Z",
     "iopub.status.busy": "2024-12-10T14:15:57.076952Z",
     "iopub.status.idle": "2024-12-10T14:15:57.374134Z",
     "shell.execute_reply": "2024-12-10T14:15:57.373077Z"
    },
    "papermill": {
     "duration": 0.309297,
     "end_time": "2024-12-10T14:15:57.376637",
     "exception": false,
     "start_time": "2024-12-10T14:15:57.067340",
     "status": "completed"
    },
    "tags": []
   },
   "outputs": [],
   "source": [
    "df['description'] = df['description'].fillna('No description')\n",
    "df['county'] = df['county'].fillna('Unknown')\n",
    "df['image_url'] = df['image_url'].fillna('No image')\n",
    "df['posting_date'] = df['posting_date'].fillna('Unknown')"
   ]
  },
  {
   "cell_type": "code",
   "execution_count": 16,
   "id": "75eb0b05",
   "metadata": {
    "execution": {
     "iopub.execute_input": "2024-12-10T14:15:57.395174Z",
     "iopub.status.busy": "2024-12-10T14:15:57.394742Z",
     "iopub.status.idle": "2024-12-10T14:15:57.862404Z",
     "shell.execute_reply": "2024-12-10T14:15:57.861240Z"
    },
    "papermill": {
     "duration": 0.479664,
     "end_time": "2024-12-10T14:15:57.864852",
     "exception": false,
     "start_time": "2024-12-10T14:15:57.385188",
     "status": "completed"
    },
    "tags": []
   },
   "outputs": [
    {
     "data": {
      "text/plain": [
       "id              0\n",
       "url             0\n",
       "region          0\n",
       "region_url      0\n",
       "price           0\n",
       "year            0\n",
       "manufacturer    0\n",
       "model           0\n",
       "condition       0\n",
       "cylinders       0\n",
       "fuel            0\n",
       "odometer        0\n",
       "title_status    0\n",
       "transmission    0\n",
       "VIN             0\n",
       "drive           0\n",
       "size            0\n",
       "type            0\n",
       "paint_color     0\n",
       "image_url       0\n",
       "description     0\n",
       "county          0\n",
       "state           0\n",
       "lat             0\n",
       "long            0\n",
       "posting_date    0\n",
       "dtype: int64"
      ]
     },
     "execution_count": 16,
     "metadata": {},
     "output_type": "execute_result"
    }
   ],
   "source": [
    "df.isnull().sum()"
   ]
  },
  {
   "cell_type": "code",
   "execution_count": 17,
   "id": "f1c191f6",
   "metadata": {
    "execution": {
     "iopub.execute_input": "2024-12-10T14:15:57.883957Z",
     "iopub.status.busy": "2024-12-10T14:15:57.883484Z",
     "iopub.status.idle": "2024-12-10T14:15:57.910158Z",
     "shell.execute_reply": "2024-12-10T14:15:57.909052Z"
    },
    "papermill": {
     "duration": 0.038817,
     "end_time": "2024-12-10T14:15:57.912564",
     "exception": false,
     "start_time": "2024-12-10T14:15:57.873747",
     "status": "completed"
    },
    "tags": []
   },
   "outputs": [
    {
     "data": {
      "text/html": [
       "<div>\n",
       "<style scoped>\n",
       "    .dataframe tbody tr th:only-of-type {\n",
       "        vertical-align: middle;\n",
       "    }\n",
       "\n",
       "    .dataframe tbody tr th {\n",
       "        vertical-align: top;\n",
       "    }\n",
       "\n",
       "    .dataframe thead th {\n",
       "        text-align: right;\n",
       "    }\n",
       "</style>\n",
       "<table border=\"1\" class=\"dataframe\">\n",
       "  <thead>\n",
       "    <tr style=\"text-align: right;\">\n",
       "      <th></th>\n",
       "      <th>id</th>\n",
       "      <th>url</th>\n",
       "      <th>region</th>\n",
       "      <th>region_url</th>\n",
       "      <th>price</th>\n",
       "      <th>year</th>\n",
       "      <th>manufacturer</th>\n",
       "      <th>model</th>\n",
       "      <th>condition</th>\n",
       "      <th>cylinders</th>\n",
       "      <th>...</th>\n",
       "      <th>size</th>\n",
       "      <th>type</th>\n",
       "      <th>paint_color</th>\n",
       "      <th>image_url</th>\n",
       "      <th>description</th>\n",
       "      <th>county</th>\n",
       "      <th>state</th>\n",
       "      <th>lat</th>\n",
       "      <th>long</th>\n",
       "      <th>posting_date</th>\n",
       "    </tr>\n",
       "  </thead>\n",
       "  <tbody>\n",
       "    <tr>\n",
       "      <th>0</th>\n",
       "      <td>7222695916</td>\n",
       "      <td>https://prescott.craigslist.org/cto/d/prescott...</td>\n",
       "      <td>prescott</td>\n",
       "      <td>https://prescott.craigslist.org</td>\n",
       "      <td>6000</td>\n",
       "      <td>2011.235191</td>\n",
       "      <td>ford</td>\n",
       "      <td>unknown</td>\n",
       "      <td>good</td>\n",
       "      <td>6 cylinders</td>\n",
       "      <td>...</td>\n",
       "      <td>full-size</td>\n",
       "      <td>sedan</td>\n",
       "      <td>white</td>\n",
       "      <td>No image</td>\n",
       "      <td>No description</td>\n",
       "      <td>Unknown</td>\n",
       "      <td>az</td>\n",
       "      <td>38.49394</td>\n",
       "      <td>-94.748599</td>\n",
       "      <td>Unknown</td>\n",
       "    </tr>\n",
       "    <tr>\n",
       "      <th>1</th>\n",
       "      <td>7218891961</td>\n",
       "      <td>https://fayar.craigslist.org/ctd/d/bentonville...</td>\n",
       "      <td>fayetteville</td>\n",
       "      <td>https://fayar.craigslist.org</td>\n",
       "      <td>11900</td>\n",
       "      <td>2011.235191</td>\n",
       "      <td>ford</td>\n",
       "      <td>unknown</td>\n",
       "      <td>good</td>\n",
       "      <td>6 cylinders</td>\n",
       "      <td>...</td>\n",
       "      <td>full-size</td>\n",
       "      <td>sedan</td>\n",
       "      <td>white</td>\n",
       "      <td>No image</td>\n",
       "      <td>No description</td>\n",
       "      <td>Unknown</td>\n",
       "      <td>ar</td>\n",
       "      <td>38.49394</td>\n",
       "      <td>-94.748599</td>\n",
       "      <td>Unknown</td>\n",
       "    </tr>\n",
       "    <tr>\n",
       "      <th>2</th>\n",
       "      <td>7221797935</td>\n",
       "      <td>https://keys.craigslist.org/cto/d/summerland-k...</td>\n",
       "      <td>florida keys</td>\n",
       "      <td>https://keys.craigslist.org</td>\n",
       "      <td>21000</td>\n",
       "      <td>2011.235191</td>\n",
       "      <td>ford</td>\n",
       "      <td>unknown</td>\n",
       "      <td>good</td>\n",
       "      <td>6 cylinders</td>\n",
       "      <td>...</td>\n",
       "      <td>full-size</td>\n",
       "      <td>sedan</td>\n",
       "      <td>white</td>\n",
       "      <td>No image</td>\n",
       "      <td>No description</td>\n",
       "      <td>Unknown</td>\n",
       "      <td>fl</td>\n",
       "      <td>38.49394</td>\n",
       "      <td>-94.748599</td>\n",
       "      <td>Unknown</td>\n",
       "    </tr>\n",
       "    <tr>\n",
       "      <th>3</th>\n",
       "      <td>7222270760</td>\n",
       "      <td>https://worcester.craigslist.org/cto/d/west-br...</td>\n",
       "      <td>worcester / central MA</td>\n",
       "      <td>https://worcester.craigslist.org</td>\n",
       "      <td>1500</td>\n",
       "      <td>2011.235191</td>\n",
       "      <td>ford</td>\n",
       "      <td>unknown</td>\n",
       "      <td>good</td>\n",
       "      <td>6 cylinders</td>\n",
       "      <td>...</td>\n",
       "      <td>full-size</td>\n",
       "      <td>sedan</td>\n",
       "      <td>white</td>\n",
       "      <td>No image</td>\n",
       "      <td>No description</td>\n",
       "      <td>Unknown</td>\n",
       "      <td>ma</td>\n",
       "      <td>38.49394</td>\n",
       "      <td>-94.748599</td>\n",
       "      <td>Unknown</td>\n",
       "    </tr>\n",
       "    <tr>\n",
       "      <th>4</th>\n",
       "      <td>7210384030</td>\n",
       "      <td>https://greensboro.craigslist.org/cto/d/trinit...</td>\n",
       "      <td>greensboro</td>\n",
       "      <td>https://greensboro.craigslist.org</td>\n",
       "      <td>4900</td>\n",
       "      <td>2011.235191</td>\n",
       "      <td>ford</td>\n",
       "      <td>unknown</td>\n",
       "      <td>good</td>\n",
       "      <td>6 cylinders</td>\n",
       "      <td>...</td>\n",
       "      <td>full-size</td>\n",
       "      <td>sedan</td>\n",
       "      <td>white</td>\n",
       "      <td>No image</td>\n",
       "      <td>No description</td>\n",
       "      <td>Unknown</td>\n",
       "      <td>nc</td>\n",
       "      <td>38.49394</td>\n",
       "      <td>-94.748599</td>\n",
       "      <td>Unknown</td>\n",
       "    </tr>\n",
       "  </tbody>\n",
       "</table>\n",
       "<p>5 rows × 26 columns</p>\n",
       "</div>"
      ],
      "text/plain": [
       "           id                                                url  \\\n",
       "0  7222695916  https://prescott.craigslist.org/cto/d/prescott...   \n",
       "1  7218891961  https://fayar.craigslist.org/ctd/d/bentonville...   \n",
       "2  7221797935  https://keys.craigslist.org/cto/d/summerland-k...   \n",
       "3  7222270760  https://worcester.craigslist.org/cto/d/west-br...   \n",
       "4  7210384030  https://greensboro.craigslist.org/cto/d/trinit...   \n",
       "\n",
       "                   region                         region_url  price  \\\n",
       "0                prescott    https://prescott.craigslist.org   6000   \n",
       "1            fayetteville       https://fayar.craigslist.org  11900   \n",
       "2            florida keys        https://keys.craigslist.org  21000   \n",
       "3  worcester / central MA   https://worcester.craigslist.org   1500   \n",
       "4              greensboro  https://greensboro.craigslist.org   4900   \n",
       "\n",
       "          year manufacturer    model condition    cylinders  ...       size  \\\n",
       "0  2011.235191         ford  unknown      good  6 cylinders  ...  full-size   \n",
       "1  2011.235191         ford  unknown      good  6 cylinders  ...  full-size   \n",
       "2  2011.235191         ford  unknown      good  6 cylinders  ...  full-size   \n",
       "3  2011.235191         ford  unknown      good  6 cylinders  ...  full-size   \n",
       "4  2011.235191         ford  unknown      good  6 cylinders  ...  full-size   \n",
       "\n",
       "    type paint_color image_url     description   county state       lat  \\\n",
       "0  sedan       white  No image  No description  Unknown    az  38.49394   \n",
       "1  sedan       white  No image  No description  Unknown    ar  38.49394   \n",
       "2  sedan       white  No image  No description  Unknown    fl  38.49394   \n",
       "3  sedan       white  No image  No description  Unknown    ma  38.49394   \n",
       "4  sedan       white  No image  No description  Unknown    nc  38.49394   \n",
       "\n",
       "        long posting_date  \n",
       "0 -94.748599      Unknown  \n",
       "1 -94.748599      Unknown  \n",
       "2 -94.748599      Unknown  \n",
       "3 -94.748599      Unknown  \n",
       "4 -94.748599      Unknown  \n",
       "\n",
       "[5 rows x 26 columns]"
      ]
     },
     "execution_count": 17,
     "metadata": {},
     "output_type": "execute_result"
    }
   ],
   "source": [
    "# print(df)\n",
    "df.head()"
   ]
  },
  {
   "cell_type": "code",
   "execution_count": 18,
   "id": "bd5324ab",
   "metadata": {
    "execution": {
     "iopub.execute_input": "2024-12-10T14:15:57.932741Z",
     "iopub.status.busy": "2024-12-10T14:15:57.932353Z",
     "iopub.status.idle": "2024-12-10T14:16:10.602106Z",
     "shell.execute_reply": "2024-12-10T14:16:10.600832Z"
    },
    "papermill": {
     "duration": 12.683012,
     "end_time": "2024-12-10T14:16:10.604582",
     "exception": false,
     "start_time": "2024-12-10T14:15:57.921570",
     "status": "completed"
    },
    "tags": []
   },
   "outputs": [
    {
     "name": "stdout",
     "output_type": "stream",
     "text": [
      "id : 426880\n",
      "id\n",
      "7222695916    1\n",
      "7313139418    1\n",
      "7313423023    1\n",
      "7313423324    1\n",
      "7313424533    1\n",
      "Name: count, dtype: int64\n",
      "\n",
      "********************\n",
      "\n",
      "url : 426880\n",
      "url\n",
      "https://prescott.craigslist.org/cto/d/prescott-2010-ford-ranger/7222695916.html            1\n",
      "https://nh.craigslist.org/cto/d/troy-1998-dodge-ram-59-cummins/7313139418.html             1\n",
      "https://nh.craigslist.org/ctd/d/north-hampton-2012-hyundai-sante-fe-se/7313423023.html     1\n",
      "https://nh.craigslist.org/ctd/d/derry-2008-chrysler-sebring-limited-all/7313423324.html    1\n",
      "https://nh.craigslist.org/ctd/d/derry-2002-toyota-camry-low-miles/7313424533.html          1\n",
      "Name: count, dtype: int64\n",
      "\n",
      "********************\n",
      "\n",
      "region : 404\n",
      "region\n",
      "columbus                   3608\n",
      "jacksonville               3562\n",
      "spokane / coeur d'alene    2988\n",
      "eugene                     2985\n",
      "fresno / madera            2983\n",
      "Name: count, dtype: int64\n",
      "\n",
      "********************\n",
      "\n",
      "region_url : 413\n",
      "region_url\n",
      "https://spokane.craigslist.org    2988\n",
      "https://eugene.craigslist.org     2985\n",
      "https://fresno.craigslist.org     2983\n",
      "https://orlando.craigslist.org    2983\n",
      "https://omaha.craigslist.org      2982\n",
      "Name: count, dtype: int64\n",
      "\n",
      "********************\n",
      "\n",
      "price : 15655\n",
      "price\n",
      "0       32895\n",
      "6995     3169\n",
      "7995     3129\n",
      "9995     2867\n",
      "8995     2837\n",
      "Name: count, dtype: int64\n",
      "\n",
      "********************\n",
      "\n",
      "year : 115\n",
      "year\n",
      "2017.0    36420\n",
      "2018.0    36369\n",
      "2015.0    31538\n",
      "2013.0    30794\n",
      "2016.0    30434\n",
      "Name: count, dtype: int64\n",
      "\n",
      "********************\n",
      "\n",
      "manufacturer : 42\n",
      "manufacturer\n",
      "ford         88631\n",
      "chevrolet    55064\n",
      "toyota       34202\n",
      "honda        21269\n",
      "nissan       19067\n",
      "Name: count, dtype: int64\n",
      "\n",
      "********************\n",
      "\n",
      "model : 29667\n",
      "model\n",
      "f-150             8009\n",
      "unknown           5279\n",
      "silverado 1500    5140\n",
      "1500              4211\n",
      "camry             3135\n",
      "Name: count, dtype: int64\n",
      "\n",
      "********************\n",
      "\n",
      "condition : 6\n",
      "condition\n",
      "good         295560\n",
      "excellent    101467\n",
      "like new      21178\n",
      "fair           6769\n",
      "new            1305\n",
      "Name: count, dtype: int64\n",
      "\n",
      "********************\n",
      "\n",
      "cylinders : 8\n",
      "cylinders\n",
      "6 cylinders     271847\n",
      "4 cylinders      77642\n",
      "8 cylinders      72062\n",
      "5 cylinders       1712\n",
      "10 cylinders      1455\n",
      "Name: count, dtype: int64\n",
      "\n",
      "********************\n",
      "\n",
      "fuel : 5\n",
      "fuel\n",
      "gas         359222\n",
      "other        30728\n",
      "diesel       30062\n",
      "hybrid        5170\n",
      "electric      1698\n",
      "Name: count, dtype: int64\n",
      "\n",
      "********************\n",
      "\n",
      "odometer : 104871\n",
      "odometer\n",
      "98043.331443     4400\n",
      "100000.000000    2263\n",
      "1.000000         2246\n",
      "0.000000         1965\n",
      "200000.000000    1728\n",
      "Name: count, dtype: int64\n",
      "\n",
      "********************\n",
      "\n",
      "title_status : 6\n",
      "title_status\n",
      "clean      413359\n",
      "rebuilt      7219\n",
      "salvage      3868\n",
      "lien         1422\n",
      "missing       814\n",
      "Name: count, dtype: int64\n",
      "\n",
      "********************\n",
      "\n",
      "transmission : 3\n",
      "transmission\n",
      "automatic    339080\n",
      "other         62682\n",
      "manual        25118\n",
      "Name: count, dtype: int64\n",
      "\n",
      "********************\n",
      "\n",
      "VIN : 118264\n",
      "VIN\n",
      "1FMJU1JT1HEA52352    161303\n",
      "3C6JR6DT3KG560649       235\n",
      "1FTER1EH1LLA36301       231\n",
      "5TFTX4CN3EX042751       227\n",
      "1GCHTCE37G1186784       214\n",
      "Name: count, dtype: int64\n",
      "\n",
      "********************\n",
      "\n",
      "drive : 3\n",
      "drive\n",
      "4wd    262471\n",
      "fwd    105517\n",
      "rwd     58892\n",
      "Name: count, dtype: int64\n",
      "\n",
      "********************\n",
      "\n",
      "size : 4\n",
      "size\n",
      "full-size      369826\n",
      "mid-size        34476\n",
      "compact         19384\n",
      "sub-compact      3194\n",
      "Name: count, dtype: int64\n",
      "\n",
      "********************\n",
      "\n",
      "type : 13\n",
      "type\n",
      "sedan     179914\n",
      "SUV        77284\n",
      "pickup     43510\n",
      "truck      35279\n",
      "other      22110\n",
      "Name: count, dtype: int64\n",
      "\n",
      "********************\n",
      "\n",
      "paint_color : 12\n",
      "paint_color\n",
      "white     209488\n",
      "black      62861\n",
      "silver     42970\n",
      "blue       31223\n",
      "red        30473\n",
      "Name: count, dtype: int64\n",
      "\n",
      "********************\n",
      "\n",
      "image_url : 241900\n",
      "image_url\n",
      "https://images.craigslist.org/00N0N_1xMPvfxRAIdz_0gw0co_600x450.jpg    7357\n",
      "https://images.craigslist.org/00R0R_lwWjXSEWNa7z_0x20oM_600x450.jpg    2192\n",
      "https://images.craigslist.org/01111_l590CdXzJSoz_001001_600x450.jpg     276\n",
      "https://images.craigslist.org/01313_9Zne268YnWZz_0gw0co_600x450.jpg     231\n",
      "https://images.craigslist.org/00X0X_1cMDo5xqSuAz_0gw0co_600x450.jpg     227\n",
      "Name: count, dtype: int64\n",
      "\n",
      "********************\n",
      "\n",
      "description : 360912\n",
      "description\n",
      "35 VEHICLES PRICED UNDER $3000!!!  BIG TIME! TAX TIME! SALE TIME!  CALL US NOW!!! 321-242-0328  30TH YEAR IN BUSINESS!!!!  OUR ADDRESS:  1900 AURORA RD. MELBOURNE, FL 32935  321-242-0328  Call us or visit us now we have a huge selection of honda accord and civic and pilot in stock at all times! we specialize in Toyota Camry and Corolla and Sienna and 3RD Row Suv. We also stock Domestics like Ford Fusion Explorer and Escape and the really nice Edge. if you care looking for Chevy Traverse or Chevrolet Malibu or Impala and Cruze for gas saving we have those as well, including Buick Enclave we always have em! Lacrosse and Regal are here too! Encore is available just call first. We stock Luxury Brands like Acura Lexus and German brands BMW Mercedes Benz and Audi. Dont get us started on Jeep! We love to sell Grand Cherokee and Patriot and Compass! Want a Really Nice Minivan!?! We got Chrysler Town and Country Dodge Grand Caravan and Honda Odyssey Always Here!! Sporty? Charger Challanger Mustang and Camro can be located for you! Are you Hip? Kia Soul and Optima are your bag, we got em!!!! Mazda is here too!! 3 and 6 and CX9. Our Number one seller for 3RD Row is the Dodge Journey and Durango, we always have a bunch in stock, back up camera and push button start bluetooth panoramic sunroof. Cadillac SRX for the luxury driver is here too! Ever driven a Nissan Altima or Sentra or Pathfinder or Rogue, come drive one today and feel the sporty drive!                                                                                                                                                                                                                                                                                                                                                                                                                                                                                                                                                                                                                                                                                                                                                                                                                                                                                                                                                                                                                                                                                                                                                                                                                                                                                                                                                                                                                                                                                                                                                                                                                                                                                                                                                                                                                                                                                                                                                                                                                                                                                                                                                                                                                                                                                                                                                                                                                                                                                                                                                                                                                                                                                                                                                                                                                                                                                                                                                                                                                                                                                                                                                                                                                                                                                                                                                                                                                                                                                                                                                                                                                                                                                                                                                                                                                                                                                                                                                                                                                                                                                                                                                                                                                                                                                                                                                                                                                                                                                                                                                                                                                                                                                                                                                                                                                                                                                                                                                                                                                                                                                                                                                                                                                                                                                                                                                                                                                                                                                                                                                                                                                                                                                                                                                                                                                                                                                                                                                                                                                                                                                                                                                                                                                                                                                                                                                                                                                                                                                                                                                                                                                                                                                                                                                                                                                                                                                                                                                                                                                                                                                                                                                                                                                                                                                                                                                                                                                                                                                                                                                                                                                                                                                                                                                                                                                                                                                                                                                                                                                                                                                                                                                                                                                                                                                                                                                                                                                                                                                                                                                                                                            231\n",
      "Call or text today to find out more. (602) 620-6525 Calls only landline (406) 245-1785  Available at Standard Auto Sales 1503 Broadwater Ave. Billings, MT 59102 standardautosales.net   Need help with financing? We have options for most credit situations. We never charge a doc fee! Extended service contracts available. We buy cars and take consignments! Call or text Mike today to find out more. (602) 620-6525  Welcome to Standard Auto Sales, located in Billings, MT, where quality service and customer satisfaction come first. We are here to help you find a vehicle that fits your lifestyle from our wide selection of used cars, trucks, and SUVs. We pride ourselves on a hassle-free car buying experience where your needs come first. Swing by to let us exceed your expectations while finding the perfect vehicle! Do you need financing for your next used vehicle purchase? Do you have a good credit, bad credit or no credit history situation? We work with a variety of financial institutions and we will work hard to get you approved quickly and easily, at the best rate possible! Apply now or call us at (406) 245-1785 or text (602) 620-6525 to schedule a test drive today!                                                                                                                                                                                                                                                                                                                                                                                                                                                                                                                                                                                                                                                                                                                                                                                                                                                                                                                                                                                                                                                                                                                                                                                                                                                                                                                                                                                                                                                                                                                                                                                                                                                                                                                                                                                                                                                                                                                                                                                                                                                                                                                                                                                                                                                                                                                                                                                                                                                                                                                                                                                                                                                                                                                                                                                                                                                                                                                                                                                                                                                                                                                                                                                                                                                                                                                                                                                                                                                                                                                                                                                                                                                                                                                                                                                                                                                                                                                                                                                                                                                                                                                                                                                                                                                                                                                                                                                                                                                                                                                                                                                                                                                                                                                                                                                                                                                                                                                                                                                                                                                                                                                                                                                                                                                                                                                                                                                                                                                                                                                                                                                                                                                                                                                                                                                                                                                                                                                                                                                                                                                                                                                                                                                                                                                                                                                                                                                                                                                                                                                                                                                                                                                                                                                                                                                                                                                                                                                                                                                                                                                                                                                                                                                                                                                                                                                                                                                                                                                                                                                                                                                                                                                                                                                                                                                                                                                                                                                                                                                                                                                                                                                                                                                                                                                                                                                                                                                                                                                                                                                                                                                                                                                                                                                                                                                                                                                                                                        197\n",
      "This truck has sold, but we buy trucks like this. If you know of one of these trucks for sale, we pay a finders fee.  Call Bobby! (636) 587 - 0660    7.3 7.3l 6.6 6.6l 5.9 5.9 6.7 6.7l powerstroke power stroke duramax cummins diesel lly lbz dmax pstroke big block small block big block smallblock sbf sbc bbf bbc efi 302 460 351 6.0 6.0L 5.0L 5.0 5.8L 5.8 7.5L 7.5 496 454 stroker 8.1 8.1L 12v 24v 4x4 four wheel drive 4wd laramie SLT Lariat lt lt1 lt2 lt3 ls club quad single crew cab clubcab quadcab singlecab crewcab cclb long bed longbed short shortbed  ccsb sclb scsb rustfree rust free clean 4door 2-door 2door 4-door ford dodge chevrolet chevy gmc sierra silverado f-250 f-350 f250 f350 ram 2500 3500 1st gen first gen firstgen 2nd gen 2ndgen second gen secondgen 3rd gen 3rdgen third gen thirdgen OBS superduty excursion supercrew supercab super duty 5-speed 6-speed stick shift stickshift manual transmission clutch intercooled inter cooled turbocharged turbo charged lonestar bighorn lone star big horn longhorn long horn low mile lowmile puller camper camp haul hauling hauler tow towing rig gooseneck goose neck 5th wheel fifth wheel 5thwheel fifthwheel hitch                                                                                                                                                                                                                                                                                                                                                                                                                                                                                                                                                                                                                                                                                                                                                                                                                                                                                                                                                                                                                                                                                                                                                                                                                                                                                                                                                                                                                                                                                                                                                                                                                                                                                                                                                                                                                                                                                                                                                                                                                                                                                                                                                                                                                                                                                                                                                                                                                                                                                                                                                                                                                                                                                                                                                                                                                                                                                                                                                                                                                                                                                                                                                                                                                                                                                                                                                                                                                                                                                                                                                                                                                                                                                                                                                                                                                                                                                                                                                                                                                                                                                                                                                                                                                                                                                                                                                                                                                                                                                                                                                                                                                                                                                                                                                                                                                                                                                                                                                                                                                                                                                                                                                                                                                                                                                                                                                                                                                                                                                                                                                                                                                                                                                                                                                                                                                                                                                                                                                                                                                                                                                                                                                                                                                                                                                                                                                                                                                                                                                                                                                                                                                                                                                                                                                                                                                                                                                                                                                                                                                                                                                                                                                                                                                                                                                                                                                                                                                                                                                                                                                                                                                                                                                                                                                                                                                                                                                                                                                                                                                                                                                                                                                                                                                                                                                                                                                                                                                                                                                                                                                                                                                                                                                                                                                                                                                                                                                                             154\n",
      "CREDIT CARS- $700.00 DOWN- RIGHT ON THE CORNER, RIGHT ON THE CREDIT!!  CALL US TODAY @ 352-204-2923 OR 352-204-2137. $700 DOWN!!!!!  CREDIT CHALLENGES??- NO PROBLEM- COME SEE US TODAY!  WE USE YOUR JOB AS YOUR CREDIT! ALL YOU NEED IS INCOME, PROOF OF INSURANCE, DRIVERS LICENSE, AND $700.00!!!  COME SEE US TODAY AT 320 NE 23RD AVENUE GAINESVILLE, FL 32609  WE ARE OPEN MONDAY- FRIDAY 9:00AM TO 7:00PM AND SATURDAY 9:00AM- 5:00PM  352-204-2137 OR 352-204-2137 CALL US TODAY TO SCHEDULE APPT!!  ⭐ Great Financing Options Available ⭐  ✅ Bad Credit? ✅ No Credit? ✅ First Time Buyer? ✅ We Work With Dozens Of Dealers To Get You Approved Fast Regardless Of Your Credit Situation.  🚘 Ready To Get Behind The Wheel Of Your New Car 🚘  100% APPROVAL! We use your job as your credit!  We Guarantee It! No matter your financial situation, you will drive off the lot in a new car, today.  ✅ Bad Credit ✅ No Credit ✅ Repossession ✅ Foreclosure ✅ SSI ✅ Disability ✅ Government Assistance  YOU'RE APPROVED!  🚘 🚘  ✅ Huge Selection Of Quality Pre-Owned Cars ✅ Leave With Confidence ✅ Trade-In Your Car Today For A Great Discount   📍 Stop By Today                                                                                                                                                                                                                                                                                                                                                                                                                                                                                                                                                                                                                                                                                                                                                                                                                                                                                                                                                                                                                                                                                                                                                                                                                                                                                                                                                                                                                                                                                                                                                                                                                                                                                                                                                                                                                                                                                                                                                                                                                                                                                                                                                                                                                                                                                                                                                                                                                                                                                                                                                                                                                                                                                                                                                                                                                                                                                                                                                                                                                                                                                                                                                                                                                                                                                                                                                                                                                                                                                                                                                                                                                                                                                                                                                                                                                                                                                                                                                                                                                                                                                                                                                                                                                                                                                                                                                                                                                                                                                                                                                                                                                                                                                                                                                                                                                                                                                                                                                                                                                                                                                                                                                                                                                                                                                                                                                                                                                                                                                                                                                                                                                                                                                                                                                                                                                                                                                                                                                                                                                                                                                                                                                                                                                                                                                                                                                                                                                                                                                                                                                                                                                                                                                                                                                                                                                                                                                                                                                                                                                                                                                                                                                                                                                                                                                                                                                                                                                                                                                                                                                                                                                                                                                                                                                                                                                                                                                                                                                                                                                                                                                                                                                                                                                                                                                                                                                                                                                                                                                                                                                                                                                                                                                                                                                                                                                                                                                                                                                       148\n",
      "HEC LEASING, LLC Call Gary, Russ or Clay at 888-366-1571  Down payment includes Factory Warranty with each truck!  AVAILABLE TRUCKS    2018 FREIGHTLINER CASCADIA 72\" CONDOS Detroit DD13 450HP @ 1800RPM with Engine Brake Eaton Fuller FOM-15E310C-LAS Ultrashift Plus Automatic Transmission  \\tDetroit DA-RT-4.0.0-4 HT 40,000 lb. R-Series Tandem Rear Axel \\t3.42 RatioAirliner Plus 40,000-lb. Load Transfer Rear Suspension w/Dump Valve \\tFontaine 6ATB Air Slide 5th Wheel w/Dash Mounted Control Valve \\t22.5 Low Profile Tires w/Polished Outer Aluminum Wheels \\t228\" Wheelbase \\tDual 100 Gallon Aluminum Fuel Tanks \\tPremium High Back Air Seats \\tPower Windows & Mirrors \\tAdjustable Tilt and Telescoping Steering Column \\tDelphi AM/FM/WB/Sirius Radio w/CD & Bluetooth \\tParkSmart HVAC System w/Espar Aux Heater in Sleeper \\t40\" Lower Bunk w/Foldable Upper Bunk   HEC LEASING, LLC Call Gary, Russ or Clay at 888-366-1571  2018 KENWORTH T680 76” CONDO Balance of Manufactures Warranty Engine Make PACCAR Engine Model MX-13 Engine HP 455 Engine Brake YES Transmission Make Eaton-Fuller Transmission Model FAOM -16810S-EP3 Transmission Speed 10 Speed Auto Paccar 40,000 lb. Rear Axle Ratio 2.64 Kenworth Air Glide 40,000  \\tRear Suspension w/ Dump Value \\tFontaine Air Slide Fifth Wheelires w/ Polished Outer Aluminum Wheels \\tDual 100 Gallon Aluminum Fuel Tanks \\tPower Windows and Mirrors \\tPremium High Back Air Seats \\tKW Idle HVAC System w/Espar \\tAux Heater in Sleeper \\tKW Radio W/AM/WB/CB/USB w/ Bluetooth \\t76” Condo Double Bunk Sleeper   HEC LEASING, LLC Call Gary, Russ or Clay at 888-366-1571  2016 PETERBILT 579 80 INCH DOUBLE BUNKS 2 Year / 250,000 Mile Peterbilt Factory Engine Warranty Engine Make PACCAR Engine Model MX-13 Engine HP 455 Engine Brake YES Transmission Make Eaton-Fuller Transmission Model FAOM -15810S-EP3 Transmission Speed Auto Sleeper 80 Inch Suspension Peterbilt Low Air Leaf Front Axle Cap 12300 Rear Axle Cap 40000 Rear End 2.64 Wheelbase 228 Front Wheels Aluminum Rear Wheels Aluminum Tire Size Low Pro 22.5 A/C Yes Powersteering Yes Cab Configuration  Conventional Color Red Interior Premier Frame  Steel Fifth Wheel Air Slide Rear Axles 2 Tank 1 100 Tank 2 100 Engine Serial Y072947 RPM 1700 Identification Vinyl Stickers  HEC LEASING, LLC Call Gary, Russ or Clay at 888-366-1571  AUTOMATIC TRANSMISSIONS!!!  We make financing decisions IN HOUSE! Low weekly rates! We make equipment acquisition easy & affordable. We offer flexible financing, and it is our mission to provide you with a transportation solution that meets your hauling needs and fits within your budget. Our lease-to-own arrangements are designed to making acquiring a truck as painless as possible. We are a small, family-oriented company that provides the personalized service you need to ensure you are acquiring the right truck under the right terms. Leasing is a great way to get your small business off the ground or quickly add capacity to your current operations.  To learn more about our truck leasing and financing services, contact us today.  To learn more about our truck leasing and financing services, contact us today  call one of our Salesman – Gary Carrigan, Russ Carrigan or Clay Britt at 888-366-1571!                                                       *DUMP TRUCK* *dump trucks* *dump* *volteo* dump truck, volteo, Freightliner International Ford Peterbilt Kenworth Mack trucks, tandem axle tri quad 5 , trucks for sale, Dumps, Tipper earth moving dumper, dumper truck business, financing, financing with bad credit, warren ox body dumps, local sale near me, Spanish dump, Volteo, mack volquete, volteo en venta, camion para movimiento de tierra, volquetes camiones tierraen mover volteos, VOLTEO, a la volteos volquetas, remolque, remolques, basculante, escombors Categories of sleeper semi 18 wheeler heavy duty Cab & Chassis Trucks, Conventional Trucks Sleeper, without Crane Dump Flatbed Garbage Glider Kit Tank Asphalt tank Gasoline Fuel Septic Vacuum Water Roll-Offs, Roll-Off Truck, Roll off Off Pumper SPANISH con dormitorio, camiones, carretera, camabajas, agua, petroleo, uso, florida, miami, exportacion importacion, importacion exportacion, usa, Camiones volvo mack, volvo, dealer camioneros, venta tracto tractomulas, mulas, bolteos, bolteo, se vende Septicos septico, septicos, tanques septico For Sleeper pump vacuum bomba, succion, septic Roll-Offs Truck Models, 108SD, 114SD, 122SD, ARGOSY, BUSINESS CLASS M2 106, 106V, 112, CASCADIA 113, 125, COLUMBIA 120, CORONADO 114, 122, 122 SD, FL60, FL70, FL80, FL106, FL112, FLC112, FLC120, FLD112, FLD120, FLD120 CLASSIC, FLD132 CLASSIC XL, 900, 1854, 1910, 1954, 1955, 2254, 2350G, 2500, 2524, 2554, 2574, 2574S, 2575, 2674, 2674SF, 4200, 4300, 4300 EAGLE, SBA, 4400, 4400 4600, 4700, 4800, 4900, 4900DT, 4954, 5000, 5500i, 5600, 5600i, 5900, 5900i, 5900i 7300, 7400, 7400 SFA, 7500, 7500 7600, 7600 7700, 8100, 8200, 8300, 8500, 8600, 8600 9000, 9100, 9200, 9200i, 9200i 9300, 9300 9370, 9400, 9400 9400i, 9900 9900i, ACCO 1850D, DURASTAR F1954, F2070A, F2375, F2554, F2574, F2575, F2674, F4370, F5070, F9370, FLEETSTAR 2000, G2604, HX515, HX520, HX615, HX620, LOADSTAR 1600, PAYSTAR 5500, PROSTAR, PROSTAR+, S1600, S1754, S1900, S1954, S2500, S2574, S2600, TRANSTAR, TRANSTAR WORKSTAR C500, C510, C550, K123, T270, T300, T330, T359, T370, T404, T440, T470, T600, T600A, T660, T800, T800B, T800W, T880, W900, W900A, W900B, W900L, W900S, W923, 300, 330, 335, 337, 340, 348, 357, 357SB, 358, 359, 359A, 359EXHD, 359S, 365, 367, 375, 377, 378, 378SB, 379, 379EXHD, 382, 384, 385, 386, 388, 389, 567, 579, 587, Volvo ACL64, ACL64B, ACL64BT, F12, FH500, FL626, FM7, FM9, FM12, FM380, FM440, FM480, FMX460, N1225, NH12, VHD42B200, VHD62B200, VHD62F200, VHD64B200, VHD64BT430, VHD64F200, VHD64FT200, VHD84B200, VHD84F200, VHD86B200, VHD104B200, VHD124F200, VNL64300, VNL64T300, VNL64T430, VNM42T200, VNM64T200, WCA64, WG42, WG64, WG64F, WG64T, WG64B, WIA64, WIA64T, WX42, Western Star 490, 3864S, 4700SB, 4700SF, 4764T, 4800FX, 4842, 4864F, 4900EX, 4900FA, 4900FX, 4900SA, 4900SB, 4900SF, 4964, 4964EX, 4964F, 4964FX, 4964SA, 5964S, 6900XD, 600, B60LS, B75, CH600, CH612, CH613, CH688R, CHN613, CL613, CL700, CL713, CL733, CL753, DM60, DM237, DM600, DM600GK, DM607S, DM685, DM685S, DM685SX, DM686, DM686S, DM686SX, DM688, DM688S, DM688SX, DM690, DM690S, DM800, DM809SX, DMM685, GRANITE, GRANITE CT713, CTP713, CTP713B, CU713, CV513, CV533, CV703, CV712, CV713, GU432, GU433, GU533, GU703, GU712, GU713, GU813, GU813E, METRO LINER, MIDLINER, MIDLINER CS200, CS200P, CS250P, CS300P, MS300, MRU613, PINNACLE, PINNACLE CHU613, CXP612, CXP613, CXU612, CXU613, R68ST, R487P, R600, R609, R685, R685ST, R685T, R686, R686LST, R686ST, R686SX R686T, R688, R688LST, R688S, R688ST, R690, R690S, R719S, R747ST, RB600, RB688, RB688S, RB688SX RB690S, RB690SX,Mack RD600, RD600GK RD668ST, RD685, RD685S, RD685ST, RD686, RD686 RD686LS, RD686S, RD686SX, RD688, RD688D, RD688P, RD688S RD688ST, RD688SX RD690, RD690P,Mack RD690S, RD690ST, RD822SX, RD854, RD890SX, RD960S, RM6864X, RS686, SUPERLINER, SUPERLINER RW613, RW633, RW713, RWS786LST, TRIDENT, VISION, VISION CX612, CX613, CXN612 CXN613, Used used Volteo usado, volquete usados, tierra Freightliner, International, Peterbilt, Kenworth, Mack, Sterling, Star, Freightliners, Internationals, Peterbilts, Kenworths, Sterlings, Stars, Sterling Mixer Concrete Sewer Rodder Tow Roll-Back pumper grapple bomba succion tipper freightliners macks Peterbilts kenworths internationals sewer cleaning, liquid waste disposal, tanks, tanker septic, FINANCING tractor trailer buy here pay here, in house trucker day cab terrible credit no check zero Financiamiento financiamiento sin documentos, visa, ilegales, venezolanos documentos Porta potty, hydroexcavation equipment, waste, pumper, water recycling, jetters, rodder, rodding guzzler, jet/vac, loader, wet/dry tank, industrial, services, plumbing industrial portable sanitation disposal grease 1500 gallon 2000 2500 2600 2650 3400 4000 5000 steel magazine, craigslist, com, magazine classifieds, vac by owner, Keywords:lifted rough country treadwright ford, f150 f 150 f-150 f250 250 f-250 f350 350 f-350 f450 450 f-450 f550 550 f-550, f650 F eseries e-series e series cargo van extended SB SMALL BED LB LONG XL XLT Super Duty Lariat King Ranch Sierra Denali,escalade Silverado expedition excursion tahoe Yukon LT SLT 2500HD 1500HD 3500 3500HD Power Stroke 5.7 6.0 6.4 6.7 7.3 Hemi Turbo Diesel, Diesel duramax lifted offroad, freedomway, freedomway trailers flatbed flat bed stepdeck step deck dropdeck drop ,trucks lowboy big rig kenworth kw t660 t680 t700 t600 t800 t880 t2000 w900 w990 w900l ,t660 t300, international prostar lonestar 9200 9900i ,vnl630 ,vnl660 vnl670 vnl780 vnl730 freightliner fld112 fld120 fld132 fld132xl cl120 flc120 columbia, century, coronado cascadia evolution classic classicxl condo peterbilt 379 378 387 377 386 388 389 348 cx613 ch613 vision midroof flattop utility ,Freightliner, Owner, Operator, Over the Road, Trucking, Drivers, Semi, Day Cab, Cascadia, Pete, KW, Peterbuilt, Classic Semi Tractors, 579 578 Cummins, Detroit, Detroit CAT, C15, C13 C12 Caterpillar, Cabs, Day-cab, Raised Roof, Midroof, Box Tandem axle, Semi-tractor, Drive Tandem, VNL670, VNL780, VNL630, VNL730, VNL430, Century, Columbia, Coronado 12.7 Cummins n14 d12 d13, isx, t2000, t600, t660, t680, t700,t800, Cascadia classic, Coronado,freightliner fld, m2, isx cummins ism swap 4x4 diesel dd15 detroit litter 60, dd13, manual transmission, auto, automatic, dt12, ishift, i-shift integrated powertrain, DT12 pete ken worth w900, M2, DD15, UD 2600, T680 Volvo, liftgate lift gate, d13 reefer dry car hauler, box transmission auto automatic dt12 ishift powertrain    133\n",
      "Name: count, dtype: int64\n",
      "\n",
      "********************\n",
      "\n",
      "county : 1\n",
      "county\n",
      "Unknown    426880\n",
      "Name: count, dtype: int64\n",
      "\n",
      "********************\n",
      "\n",
      "state : 51\n",
      "state\n",
      "ca    50614\n",
      "fl    28511\n",
      "tx    22945\n",
      "ny    19386\n",
      "oh    17696\n",
      "Name: count, dtype: int64\n",
      "\n",
      "********************\n",
      "\n",
      "lat : 53182\n",
      "lat\n",
      "38.493940    6549\n",
      "33.779214    3301\n",
      "43.182400    2666\n",
      "40.468785    2346\n",
      "33.786500    2341\n",
      "Name: count, dtype: int64\n",
      "\n",
      "********************\n",
      "\n",
      "long : 53773\n",
      "long\n",
      "-94.748599    6549\n",
      "-84.411811    3301\n",
      "-84.112200    2666\n",
      "-74.281707    2346\n",
      "-84.445400    2341\n",
      "Name: count, dtype: int64\n",
      "\n",
      "********************\n",
      "\n",
      "posting_date : 381537\n",
      "posting_date\n",
      "Unknown                     68\n",
      "2021-04-23T22:13:05-0400    12\n",
      "2021-04-13T13:19:15-0500    11\n",
      "2021-04-22T20:32:05-0400    11\n",
      "2021-04-16T12:07:56-0500    10\n",
      "Name: count, dtype: int64\n",
      "\n",
      "********************\n",
      "\n"
     ]
    }
   ],
   "source": [
    "for col in df.columns:\n",
    "    print( col,':', df[col].nunique())\n",
    "    print(df[col].value_counts().nlargest(5))\n",
    "    print('\\n' + '*' * 20 + '\\n')"
   ]
  },
  {
   "cell_type": "code",
   "execution_count": 19,
   "id": "5c4f4b60",
   "metadata": {
    "execution": {
     "iopub.execute_input": "2024-12-10T14:16:10.629989Z",
     "iopub.status.busy": "2024-12-10T14:16:10.629563Z",
     "iopub.status.idle": "2024-12-10T14:16:10.765470Z",
     "shell.execute_reply": "2024-12-10T14:16:10.764336Z"
    },
    "papermill": {
     "duration": 0.151799,
     "end_time": "2024-12-10T14:16:10.768416",
     "exception": false,
     "start_time": "2024-12-10T14:16:10.616617",
     "status": "completed"
    },
    "tags": []
   },
   "outputs": [
    {
     "data": {
      "text/html": [
       "<div>\n",
       "<style scoped>\n",
       "    .dataframe tbody tr th:only-of-type {\n",
       "        vertical-align: middle;\n",
       "    }\n",
       "\n",
       "    .dataframe tbody tr th {\n",
       "        vertical-align: top;\n",
       "    }\n",
       "\n",
       "    .dataframe thead th {\n",
       "        text-align: right;\n",
       "    }\n",
       "</style>\n",
       "<table border=\"1\" class=\"dataframe\">\n",
       "  <thead>\n",
       "    <tr style=\"text-align: right;\">\n",
       "      <th></th>\n",
       "      <th>id</th>\n",
       "      <th>price</th>\n",
       "      <th>year</th>\n",
       "      <th>odometer</th>\n",
       "      <th>lat</th>\n",
       "      <th>long</th>\n",
       "    </tr>\n",
       "  </thead>\n",
       "  <tbody>\n",
       "    <tr>\n",
       "      <th>count</th>\n",
       "      <td>4.268800e+05</td>\n",
       "      <td>4.268800e+05</td>\n",
       "      <td>426880.000000</td>\n",
       "      <td>4.268800e+05</td>\n",
       "      <td>426880.000000</td>\n",
       "      <td>426880.000000</td>\n",
       "    </tr>\n",
       "    <tr>\n",
       "      <th>mean</th>\n",
       "      <td>7.311487e+09</td>\n",
       "      <td>7.519903e+04</td>\n",
       "      <td>2011.235191</td>\n",
       "      <td>9.804333e+04</td>\n",
       "      <td>38.493940</td>\n",
       "      <td>-94.748599</td>\n",
       "    </tr>\n",
       "    <tr>\n",
       "      <th>std</th>\n",
       "      <td>4.473170e+06</td>\n",
       "      <td>1.218228e+07</td>\n",
       "      <td>9.438769</td>\n",
       "      <td>2.127764e+05</td>\n",
       "      <td>5.796551</td>\n",
       "      <td>18.224040</td>\n",
       "    </tr>\n",
       "    <tr>\n",
       "      <th>min</th>\n",
       "      <td>7.207408e+09</td>\n",
       "      <td>0.000000e+00</td>\n",
       "      <td>1900.000000</td>\n",
       "      <td>0.000000e+00</td>\n",
       "      <td>-84.122245</td>\n",
       "      <td>-159.827728</td>\n",
       "    </tr>\n",
       "    <tr>\n",
       "      <th>25%</th>\n",
       "      <td>7.308143e+09</td>\n",
       "      <td>5.900000e+03</td>\n",
       "      <td>2008.000000</td>\n",
       "      <td>3.813000e+04</td>\n",
       "      <td>34.757016</td>\n",
       "      <td>-111.907973</td>\n",
       "    </tr>\n",
       "    <tr>\n",
       "      <th>50%</th>\n",
       "      <td>7.312621e+09</td>\n",
       "      <td>1.395000e+04</td>\n",
       "      <td>2013.000000</td>\n",
       "      <td>8.660000e+04</td>\n",
       "      <td>39.064410</td>\n",
       "      <td>-89.028197</td>\n",
       "    </tr>\n",
       "    <tr>\n",
       "      <th>75%</th>\n",
       "      <td>7.315254e+09</td>\n",
       "      <td>2.648575e+04</td>\n",
       "      <td>2017.000000</td>\n",
       "      <td>1.330000e+05</td>\n",
       "      <td>42.350000</td>\n",
       "      <td>-81.030000</td>\n",
       "    </tr>\n",
       "    <tr>\n",
       "      <th>max</th>\n",
       "      <td>7.317101e+09</td>\n",
       "      <td>3.736929e+09</td>\n",
       "      <td>2022.000000</td>\n",
       "      <td>1.000000e+07</td>\n",
       "      <td>82.390818</td>\n",
       "      <td>173.885502</td>\n",
       "    </tr>\n",
       "  </tbody>\n",
       "</table>\n",
       "</div>"
      ],
      "text/plain": [
       "                 id         price           year      odometer            lat  \\\n",
       "count  4.268800e+05  4.268800e+05  426880.000000  4.268800e+05  426880.000000   \n",
       "mean   7.311487e+09  7.519903e+04    2011.235191  9.804333e+04      38.493940   \n",
       "std    4.473170e+06  1.218228e+07       9.438769  2.127764e+05       5.796551   \n",
       "min    7.207408e+09  0.000000e+00    1900.000000  0.000000e+00     -84.122245   \n",
       "25%    7.308143e+09  5.900000e+03    2008.000000  3.813000e+04      34.757016   \n",
       "50%    7.312621e+09  1.395000e+04    2013.000000  8.660000e+04      39.064410   \n",
       "75%    7.315254e+09  2.648575e+04    2017.000000  1.330000e+05      42.350000   \n",
       "max    7.317101e+09  3.736929e+09    2022.000000  1.000000e+07      82.390818   \n",
       "\n",
       "                long  \n",
       "count  426880.000000  \n",
       "mean      -94.748599  \n",
       "std        18.224040  \n",
       "min      -159.827728  \n",
       "25%      -111.907973  \n",
       "50%       -89.028197  \n",
       "75%       -81.030000  \n",
       "max       173.885502  "
      ]
     },
     "execution_count": 19,
     "metadata": {},
     "output_type": "execute_result"
    }
   ],
   "source": [
    "df.describe()"
   ]
  },
  {
   "cell_type": "code",
   "execution_count": 20,
   "id": "1ffc16bb",
   "metadata": {
    "execution": {
     "iopub.execute_input": "2024-12-10T14:16:10.794002Z",
     "iopub.status.busy": "2024-12-10T14:16:10.793551Z",
     "iopub.status.idle": "2024-12-10T14:16:14.335644Z",
     "shell.execute_reply": "2024-12-10T14:16:14.334445Z"
    },
    "papermill": {
     "duration": 3.557364,
     "end_time": "2024-12-10T14:16:14.337964",
     "exception": false,
     "start_time": "2024-12-10T14:16:10.780600",
     "status": "completed"
    },
    "tags": []
   },
   "outputs": [
    {
     "data": {
      "text/html": [
       "<div>\n",
       "<style scoped>\n",
       "    .dataframe tbody tr th:only-of-type {\n",
       "        vertical-align: middle;\n",
       "    }\n",
       "\n",
       "    .dataframe tbody tr th {\n",
       "        vertical-align: top;\n",
       "    }\n",
       "\n",
       "    .dataframe thead th {\n",
       "        text-align: right;\n",
       "    }\n",
       "</style>\n",
       "<table border=\"1\" class=\"dataframe\">\n",
       "  <thead>\n",
       "    <tr style=\"text-align: right;\">\n",
       "      <th></th>\n",
       "      <th>url</th>\n",
       "      <th>region</th>\n",
       "      <th>region_url</th>\n",
       "      <th>manufacturer</th>\n",
       "      <th>model</th>\n",
       "      <th>condition</th>\n",
       "      <th>cylinders</th>\n",
       "      <th>fuel</th>\n",
       "      <th>title_status</th>\n",
       "      <th>transmission</th>\n",
       "      <th>VIN</th>\n",
       "      <th>drive</th>\n",
       "      <th>size</th>\n",
       "      <th>type</th>\n",
       "      <th>paint_color</th>\n",
       "      <th>image_url</th>\n",
       "      <th>description</th>\n",
       "      <th>county</th>\n",
       "      <th>state</th>\n",
       "      <th>posting_date</th>\n",
       "    </tr>\n",
       "  </thead>\n",
       "  <tbody>\n",
       "    <tr>\n",
       "      <th>count</th>\n",
       "      <td>426880</td>\n",
       "      <td>426880</td>\n",
       "      <td>426880</td>\n",
       "      <td>426880</td>\n",
       "      <td>426880</td>\n",
       "      <td>426880</td>\n",
       "      <td>426880</td>\n",
       "      <td>426880</td>\n",
       "      <td>426880</td>\n",
       "      <td>426880</td>\n",
       "      <td>426880</td>\n",
       "      <td>426880</td>\n",
       "      <td>426880</td>\n",
       "      <td>426880</td>\n",
       "      <td>426880</td>\n",
       "      <td>426880</td>\n",
       "      <td>426880</td>\n",
       "      <td>426880</td>\n",
       "      <td>426880</td>\n",
       "      <td>426880</td>\n",
       "    </tr>\n",
       "    <tr>\n",
       "      <th>unique</th>\n",
       "      <td>426880</td>\n",
       "      <td>404</td>\n",
       "      <td>413</td>\n",
       "      <td>42</td>\n",
       "      <td>29667</td>\n",
       "      <td>6</td>\n",
       "      <td>8</td>\n",
       "      <td>5</td>\n",
       "      <td>6</td>\n",
       "      <td>3</td>\n",
       "      <td>118264</td>\n",
       "      <td>3</td>\n",
       "      <td>4</td>\n",
       "      <td>13</td>\n",
       "      <td>12</td>\n",
       "      <td>241900</td>\n",
       "      <td>360912</td>\n",
       "      <td>1</td>\n",
       "      <td>51</td>\n",
       "      <td>381537</td>\n",
       "    </tr>\n",
       "    <tr>\n",
       "      <th>top</th>\n",
       "      <td>https://prescott.craigslist.org/cto/d/prescott...</td>\n",
       "      <td>columbus</td>\n",
       "      <td>https://spokane.craigslist.org</td>\n",
       "      <td>ford</td>\n",
       "      <td>f-150</td>\n",
       "      <td>good</td>\n",
       "      <td>6 cylinders</td>\n",
       "      <td>gas</td>\n",
       "      <td>clean</td>\n",
       "      <td>automatic</td>\n",
       "      <td>1FMJU1JT1HEA52352</td>\n",
       "      <td>4wd</td>\n",
       "      <td>full-size</td>\n",
       "      <td>sedan</td>\n",
       "      <td>white</td>\n",
       "      <td>https://images.craigslist.org/00N0N_1xMPvfxRAI...</td>\n",
       "      <td>35 VEHICLES PRICED UNDER $3000!!!  BIG TIME! T...</td>\n",
       "      <td>Unknown</td>\n",
       "      <td>ca</td>\n",
       "      <td>Unknown</td>\n",
       "    </tr>\n",
       "    <tr>\n",
       "      <th>freq</th>\n",
       "      <td>1</td>\n",
       "      <td>3608</td>\n",
       "      <td>2988</td>\n",
       "      <td>88631</td>\n",
       "      <td>8009</td>\n",
       "      <td>295560</td>\n",
       "      <td>271847</td>\n",
       "      <td>359222</td>\n",
       "      <td>413359</td>\n",
       "      <td>339080</td>\n",
       "      <td>161303</td>\n",
       "      <td>262471</td>\n",
       "      <td>369826</td>\n",
       "      <td>179914</td>\n",
       "      <td>209488</td>\n",
       "      <td>7357</td>\n",
       "      <td>231</td>\n",
       "      <td>426880</td>\n",
       "      <td>50614</td>\n",
       "      <td>68</td>\n",
       "    </tr>\n",
       "  </tbody>\n",
       "</table>\n",
       "</div>"
      ],
      "text/plain": [
       "                                                      url    region  \\\n",
       "count                                              426880    426880   \n",
       "unique                                             426880       404   \n",
       "top     https://prescott.craigslist.org/cto/d/prescott...  columbus   \n",
       "freq                                                    1      3608   \n",
       "\n",
       "                            region_url manufacturer   model condition  \\\n",
       "count                           426880       426880  426880    426880   \n",
       "unique                             413           42   29667         6   \n",
       "top     https://spokane.craigslist.org         ford   f-150      good   \n",
       "freq                              2988        88631    8009    295560   \n",
       "\n",
       "          cylinders    fuel title_status transmission                VIN  \\\n",
       "count        426880  426880       426880       426880             426880   \n",
       "unique            8       5            6            3             118264   \n",
       "top     6 cylinders     gas        clean    automatic  1FMJU1JT1HEA52352   \n",
       "freq         271847  359222       413359       339080             161303   \n",
       "\n",
       "         drive       size    type paint_color  \\\n",
       "count   426880     426880  426880      426880   \n",
       "unique       3          4      13          12   \n",
       "top        4wd  full-size   sedan       white   \n",
       "freq    262471     369826  179914      209488   \n",
       "\n",
       "                                                image_url  \\\n",
       "count                                              426880   \n",
       "unique                                             241900   \n",
       "top     https://images.craigslist.org/00N0N_1xMPvfxRAI...   \n",
       "freq                                                 7357   \n",
       "\n",
       "                                              description   county   state  \\\n",
       "count                                              426880   426880  426880   \n",
       "unique                                             360912        1      51   \n",
       "top     35 VEHICLES PRICED UNDER $3000!!!  BIG TIME! T...  Unknown      ca   \n",
       "freq                                                  231   426880   50614   \n",
       "\n",
       "       posting_date  \n",
       "count        426880  \n",
       "unique       381537  \n",
       "top         Unknown  \n",
       "freq             68  "
      ]
     },
     "execution_count": 20,
     "metadata": {},
     "output_type": "execute_result"
    }
   ],
   "source": [
    "df.describe(include='object')"
   ]
  },
  {
   "cell_type": "code",
   "execution_count": 21,
   "id": "cb7294cb",
   "metadata": {
    "execution": {
     "iopub.execute_input": "2024-12-10T14:16:14.362874Z",
     "iopub.status.busy": "2024-12-10T14:16:14.362424Z",
     "iopub.status.idle": "2024-12-10T14:16:18.503432Z",
     "shell.execute_reply": "2024-12-10T14:16:18.502274Z"
    },
    "papermill": {
     "duration": 4.156505,
     "end_time": "2024-12-10T14:16:18.505937",
     "exception": false,
     "start_time": "2024-12-10T14:16:14.349432",
     "status": "completed"
    },
    "tags": []
   },
   "outputs": [
    {
     "data": {
      "text/plain": [
       "0"
      ]
     },
     "execution_count": 21,
     "metadata": {},
     "output_type": "execute_result"
    }
   ],
   "source": [
    "df.duplicated().sum()"
   ]
  },
  {
   "cell_type": "code",
   "execution_count": 22,
   "id": "31871364",
   "metadata": {
    "execution": {
     "iopub.execute_input": "2024-12-10T14:16:18.533166Z",
     "iopub.status.busy": "2024-12-10T14:16:18.532741Z",
     "iopub.status.idle": "2024-12-10T14:16:18.542124Z",
     "shell.execute_reply": "2024-12-10T14:16:18.540822Z"
    },
    "papermill": {
     "duration": 0.026556,
     "end_time": "2024-12-10T14:16:18.544634",
     "exception": false,
     "start_time": "2024-12-10T14:16:18.518078",
     "status": "completed"
    },
    "tags": []
   },
   "outputs": [
    {
     "data": {
      "text/plain": [
       "id                int64\n",
       "url              object\n",
       "region           object\n",
       "region_url       object\n",
       "price             int64\n",
       "year            float64\n",
       "manufacturer     object\n",
       "model            object\n",
       "condition        object\n",
       "cylinders        object\n",
       "fuel             object\n",
       "odometer        float64\n",
       "title_status     object\n",
       "transmission     object\n",
       "VIN              object\n",
       "drive            object\n",
       "size             object\n",
       "type             object\n",
       "paint_color      object\n",
       "image_url        object\n",
       "description      object\n",
       "county           object\n",
       "state            object\n",
       "lat             float64\n",
       "long            float64\n",
       "posting_date     object\n",
       "dtype: object"
      ]
     },
     "execution_count": 22,
     "metadata": {},
     "output_type": "execute_result"
    }
   ],
   "source": [
    "df.dtypes"
   ]
  },
  {
   "cell_type": "code",
   "execution_count": 23,
   "id": "47902069",
   "metadata": {
    "execution": {
     "iopub.execute_input": "2024-12-10T14:16:18.572589Z",
     "iopub.status.busy": "2024-12-10T14:16:18.572200Z",
     "iopub.status.idle": "2024-12-10T14:16:25.040856Z",
     "shell.execute_reply": "2024-12-10T14:16:25.039527Z"
    },
    "papermill": {
     "duration": 6.486365,
     "end_time": "2024-12-10T14:16:25.043245",
     "exception": false,
     "start_time": "2024-12-10T14:16:18.556880",
     "status": "completed"
    },
    "tags": []
   },
   "outputs": [
    {
     "name": "stderr",
     "output_type": "stream",
     "text": [
      "/tmp/ipykernel_17/839423937.py:1: UserWarning: Could not infer format, so each element will be parsed individually, falling back to `dateutil`. To ensure parsing is consistent and as-expected, please specify a format.\n",
      "  df['posting_date'] = pd.to_datetime(df['posting_date'], errors='coerce')\n",
      "/tmp/ipykernel_17/839423937.py:1: FutureWarning: In a future version of pandas, parsing datetimes with mixed time zones will raise an error unless `utc=True`. Please specify `utc=True` to opt in to the new behaviour and silence this warning. To create a `Series` with mixed offsets and `object` dtype, please use `apply` and `datetime.datetime.strptime`\n",
      "  df['posting_date'] = pd.to_datetime(df['posting_date'], errors='coerce')\n"
     ]
    }
   ],
   "source": [
    "df['posting_date'] = pd.to_datetime(df['posting_date'], errors='coerce')"
   ]
  },
  {
   "cell_type": "code",
   "execution_count": 24,
   "id": "e769c401",
   "metadata": {
    "execution": {
     "iopub.execute_input": "2024-12-10T14:16:25.068014Z",
     "iopub.status.busy": "2024-12-10T14:16:25.067639Z",
     "iopub.status.idle": "2024-12-10T14:16:25.092852Z",
     "shell.execute_reply": "2024-12-10T14:16:25.091531Z"
    },
    "papermill": {
     "duration": 0.040382,
     "end_time": "2024-12-10T14:16:25.095100",
     "exception": false,
     "start_time": "2024-12-10T14:16:25.054718",
     "status": "completed"
    },
    "tags": []
   },
   "outputs": [
    {
     "data": {
      "text/html": [
       "<div>\n",
       "<style scoped>\n",
       "    .dataframe tbody tr th:only-of-type {\n",
       "        vertical-align: middle;\n",
       "    }\n",
       "\n",
       "    .dataframe tbody tr th {\n",
       "        vertical-align: top;\n",
       "    }\n",
       "\n",
       "    .dataframe thead th {\n",
       "        text-align: right;\n",
       "    }\n",
       "</style>\n",
       "<table border=\"1\" class=\"dataframe\">\n",
       "  <thead>\n",
       "    <tr style=\"text-align: right;\">\n",
       "      <th></th>\n",
       "      <th>id</th>\n",
       "      <th>url</th>\n",
       "      <th>region</th>\n",
       "      <th>region_url</th>\n",
       "      <th>price</th>\n",
       "      <th>year</th>\n",
       "      <th>manufacturer</th>\n",
       "      <th>model</th>\n",
       "      <th>condition</th>\n",
       "      <th>cylinders</th>\n",
       "      <th>...</th>\n",
       "      <th>size</th>\n",
       "      <th>type</th>\n",
       "      <th>paint_color</th>\n",
       "      <th>image_url</th>\n",
       "      <th>description</th>\n",
       "      <th>county</th>\n",
       "      <th>state</th>\n",
       "      <th>lat</th>\n",
       "      <th>long</th>\n",
       "      <th>posting_date</th>\n",
       "    </tr>\n",
       "  </thead>\n",
       "  <tbody>\n",
       "    <tr>\n",
       "      <th>0</th>\n",
       "      <td>7222695916</td>\n",
       "      <td>https://prescott.craigslist.org/cto/d/prescott...</td>\n",
       "      <td>prescott</td>\n",
       "      <td>https://prescott.craigslist.org</td>\n",
       "      <td>6000</td>\n",
       "      <td>2011.235191</td>\n",
       "      <td>ford</td>\n",
       "      <td>unknown</td>\n",
       "      <td>good</td>\n",
       "      <td>6 cylinders</td>\n",
       "      <td>...</td>\n",
       "      <td>full-size</td>\n",
       "      <td>sedan</td>\n",
       "      <td>white</td>\n",
       "      <td>No image</td>\n",
       "      <td>No description</td>\n",
       "      <td>Unknown</td>\n",
       "      <td>az</td>\n",
       "      <td>38.49394</td>\n",
       "      <td>-94.748599</td>\n",
       "      <td>NaT</td>\n",
       "    </tr>\n",
       "    <tr>\n",
       "      <th>1</th>\n",
       "      <td>7218891961</td>\n",
       "      <td>https://fayar.craigslist.org/ctd/d/bentonville...</td>\n",
       "      <td>fayetteville</td>\n",
       "      <td>https://fayar.craigslist.org</td>\n",
       "      <td>11900</td>\n",
       "      <td>2011.235191</td>\n",
       "      <td>ford</td>\n",
       "      <td>unknown</td>\n",
       "      <td>good</td>\n",
       "      <td>6 cylinders</td>\n",
       "      <td>...</td>\n",
       "      <td>full-size</td>\n",
       "      <td>sedan</td>\n",
       "      <td>white</td>\n",
       "      <td>No image</td>\n",
       "      <td>No description</td>\n",
       "      <td>Unknown</td>\n",
       "      <td>ar</td>\n",
       "      <td>38.49394</td>\n",
       "      <td>-94.748599</td>\n",
       "      <td>NaT</td>\n",
       "    </tr>\n",
       "    <tr>\n",
       "      <th>2</th>\n",
       "      <td>7221797935</td>\n",
       "      <td>https://keys.craigslist.org/cto/d/summerland-k...</td>\n",
       "      <td>florida keys</td>\n",
       "      <td>https://keys.craigslist.org</td>\n",
       "      <td>21000</td>\n",
       "      <td>2011.235191</td>\n",
       "      <td>ford</td>\n",
       "      <td>unknown</td>\n",
       "      <td>good</td>\n",
       "      <td>6 cylinders</td>\n",
       "      <td>...</td>\n",
       "      <td>full-size</td>\n",
       "      <td>sedan</td>\n",
       "      <td>white</td>\n",
       "      <td>No image</td>\n",
       "      <td>No description</td>\n",
       "      <td>Unknown</td>\n",
       "      <td>fl</td>\n",
       "      <td>38.49394</td>\n",
       "      <td>-94.748599</td>\n",
       "      <td>NaT</td>\n",
       "    </tr>\n",
       "  </tbody>\n",
       "</table>\n",
       "<p>3 rows × 26 columns</p>\n",
       "</div>"
      ],
      "text/plain": [
       "           id                                                url  \\\n",
       "0  7222695916  https://prescott.craigslist.org/cto/d/prescott...   \n",
       "1  7218891961  https://fayar.craigslist.org/ctd/d/bentonville...   \n",
       "2  7221797935  https://keys.craigslist.org/cto/d/summerland-k...   \n",
       "\n",
       "         region                       region_url  price         year  \\\n",
       "0      prescott  https://prescott.craigslist.org   6000  2011.235191   \n",
       "1  fayetteville     https://fayar.craigslist.org  11900  2011.235191   \n",
       "2  florida keys      https://keys.craigslist.org  21000  2011.235191   \n",
       "\n",
       "  manufacturer    model condition    cylinders  ...       size   type  \\\n",
       "0         ford  unknown      good  6 cylinders  ...  full-size  sedan   \n",
       "1         ford  unknown      good  6 cylinders  ...  full-size  sedan   \n",
       "2         ford  unknown      good  6 cylinders  ...  full-size  sedan   \n",
       "\n",
       "  paint_color image_url     description   county state       lat       long  \\\n",
       "0       white  No image  No description  Unknown    az  38.49394 -94.748599   \n",
       "1       white  No image  No description  Unknown    ar  38.49394 -94.748599   \n",
       "2       white  No image  No description  Unknown    fl  38.49394 -94.748599   \n",
       "\n",
       "  posting_date  \n",
       "0          NaT  \n",
       "1          NaT  \n",
       "2          NaT  \n",
       "\n",
       "[3 rows x 26 columns]"
      ]
     },
     "execution_count": 24,
     "metadata": {},
     "output_type": "execute_result"
    }
   ],
   "source": [
    "df.head(3)"
   ]
  },
  {
   "cell_type": "markdown",
   "id": "82b20ee5",
   "metadata": {
    "papermill": {
     "duration": 0.012131,
     "end_time": "2024-12-10T14:16:25.119049",
     "exception": false,
     "start_time": "2024-12-10T14:16:25.106918",
     "status": "completed"
    },
    "tags": []
   },
   "source": [
    "# EDA"
   ]
  },
  {
   "cell_type": "markdown",
   "id": "e0d73094",
   "metadata": {
    "papermill": {
     "duration": 0.012149,
     "end_time": "2024-12-10T14:16:25.143444",
     "exception": false,
     "start_time": "2024-12-10T14:16:25.131295",
     "status": "completed"
    },
    "tags": []
   },
   "source": [
    "# What are the most popular type?"
   ]
  },
  {
   "cell_type": "code",
   "execution_count": 25,
   "id": "8603719b",
   "metadata": {
    "execution": {
     "iopub.execute_input": "2024-12-10T14:16:25.169761Z",
     "iopub.status.busy": "2024-12-10T14:16:25.169379Z",
     "iopub.status.idle": "2024-12-10T14:16:25.175829Z",
     "shell.execute_reply": "2024-12-10T14:16:25.174591Z"
    },
    "papermill": {
     "duration": 0.023075,
     "end_time": "2024-12-10T14:16:25.178225",
     "exception": false,
     "start_time": "2024-12-10T14:16:25.155150",
     "status": "completed"
    },
    "tags": []
   },
   "outputs": [
    {
     "name": "stdout",
     "output_type": "stream",
     "text": [
      "Index(['id', 'url', 'region', 'region_url', 'price', 'year', 'manufacturer',\n",
      "       'model', 'condition', 'cylinders', 'fuel', 'odometer', 'title_status',\n",
      "       'transmission', 'VIN', 'drive', 'size', 'type', 'paint_color',\n",
      "       'image_url', 'description', 'county', 'state', 'lat', 'long',\n",
      "       'posting_date'],\n",
      "      dtype='object')\n"
     ]
    }
   ],
   "source": [
    "print(df.columns)"
   ]
  },
  {
   "cell_type": "code",
   "execution_count": 26,
   "id": "e0e2a530",
   "metadata": {
    "execution": {
     "iopub.execute_input": "2024-12-10T14:16:25.204116Z",
     "iopub.status.busy": "2024-12-10T14:16:25.203704Z",
     "iopub.status.idle": "2024-12-10T14:16:25.245100Z",
     "shell.execute_reply": "2024-12-10T14:16:25.243931Z"
    },
    "papermill": {
     "duration": 0.056926,
     "end_time": "2024-12-10T14:16:25.247397",
     "exception": false,
     "start_time": "2024-12-10T14:16:25.190471",
     "status": "completed"
    },
    "tags": []
   },
   "outputs": [
    {
     "data": {
      "text/plain": [
       "type\n",
       "sedan          179914\n",
       "SUV             77284\n",
       "pickup          43510\n",
       "truck           35279\n",
       "other           22110\n",
       "coupe           19204\n",
       "hatchback       16598\n",
       "wagon           10751\n",
       "van              8548\n",
       "convertible      7731\n",
       "mini-van         4825\n",
       "offroad           609\n",
       "bus               517\n",
       "Name: count, dtype: int64"
      ]
     },
     "execution_count": 26,
     "metadata": {},
     "output_type": "execute_result"
    }
   ],
   "source": [
    "df['type'].value_counts()"
   ]
  },
  {
   "cell_type": "code",
   "execution_count": 27,
   "id": "bc42b892",
   "metadata": {
    "execution": {
     "iopub.execute_input": "2024-12-10T14:16:25.274268Z",
     "iopub.status.busy": "2024-12-10T14:16:25.273916Z",
     "iopub.status.idle": "2024-12-10T14:16:25.636398Z",
     "shell.execute_reply": "2024-12-10T14:16:25.634786Z"
    },
    "papermill": {
     "duration": 0.381984,
     "end_time": "2024-12-10T14:16:25.641300",
     "exception": false,
     "start_time": "2024-12-10T14:16:25.259316",
     "status": "completed"
    },
    "tags": []
   },
   "outputs": [
    {
     "data": {
      "image/png": "[encoded data removed]",
      "text/plain": [
       "<Figure size 640x480 with 1 Axes>"
      ]
     },
     "metadata": {},
     "output_type": "display_data"
    }
   ],
   "source": [
    "df['type'].value_counts().plot(kind='pie',autopct='%1.1f%%');"
   ]
  },
  {
   "cell_type": "code",
   "execution_count": 28,
   "id": "8cd4b813",
   "metadata": {
    "execution": {
     "iopub.execute_input": "2024-12-10T14:16:25.670277Z",
     "iopub.status.busy": "2024-12-10T14:16:25.669897Z",
     "iopub.status.idle": "2024-12-10T14:16:27.224468Z",
     "shell.execute_reply": "2024-12-10T14:16:27.222877Z"
    },
    "papermill": {
     "duration": 1.571165,
     "end_time": "2024-12-10T14:16:27.227126",
     "exception": false,
     "start_time": "2024-12-10T14:16:25.655961",
     "status": "completed"
    },
    "tags": []
   },
   "outputs": [
    {
     "data": {
      "image/png": "[encoded data removed]",
      "text/plain": [
       "<Figure size 640x480 with 1 Axes>"
      ]
     },
     "metadata": {},
     "output_type": "display_data"
    }
   ],
   "source": [
    "\n",
    "# Get the counts of each 'type' and sort them in descending order\n",
    "sorted_order = df['type'].value_counts().index\n",
    "\n",
    "sns.countplot(x= 'type' , data =df , hue= 'type', order=sorted_order)\n",
    "\n",
    "# Rotate the x-axis labels\n",
    "plt.xticks(rotation=45)  # Adjust the rotation angle as needed (e.g., 45 or 90)\n",
    "\n",
    "# Show the plot\n",
    "plt.show()"
   ]
  },
  {
   "cell_type": "markdown",
   "id": "ac11800e",
   "metadata": {
    "papermill": {
     "duration": 0.018973,
     "end_time": "2024-12-10T14:16:27.262434",
     "exception": false,
     "start_time": "2024-12-10T14:16:27.243461",
     "status": "completed"
    },
    "tags": []
   },
   "source": [
    "# What is the distribution of the number of cars according to title status?"
   ]
  },
  {
   "cell_type": "code",
   "execution_count": 29,
   "id": "44481645",
   "metadata": {
    "execution": {
     "iopub.execute_input": "2024-12-10T14:16:27.299123Z",
     "iopub.status.busy": "2024-12-10T14:16:27.298644Z",
     "iopub.status.idle": "2024-12-10T14:16:27.618354Z",
     "shell.execute_reply": "2024-12-10T14:16:27.617244Z"
    },
    "papermill": {
     "duration": 0.337918,
     "end_time": "2024-12-10T14:16:27.620873",
     "exception": false,
     "start_time": "2024-12-10T14:16:27.282955",
     "status": "completed"
    },
    "tags": []
   },
   "outputs": [
    {
     "data": {
      "image/png": "[encoded data removed]",
      "text/plain": [
       "<Figure size 1000x600 with 1 Axes>"
      ]
     },
     "metadata": {},
     "output_type": "display_data"
    }
   ],
   "source": [
    "plt.figure(figsize=(10, 6))\n",
    "df['title_status'].value_counts().plot(kind='bar', color='blue')\n",
    "plt.title('Distribution of Cars by Title Status')\n",
    "plt.xlabel('Title Status')\n",
    "plt.ylabel('Count')\n",
    "# Rotate the x-axis labels\n",
    "plt.xticks(rotation=0)  # Adjust the rotation angle as needed (e.g., 45 or 90)\n",
    "plt.show()"
   ]
  },
  {
   "cell_type": "markdown",
   "id": "b62ac07a",
   "metadata": {
    "papermill": {
     "duration": 0.014612,
     "end_time": "2024-12-10T14:16:27.650195",
     "exception": false,
     "start_time": "2024-12-10T14:16:27.635583",
     "status": "completed"
    },
    "tags": []
   },
   "source": [
    "# What is the most common condition for cars?"
   ]
  },
  {
   "cell_type": "code",
   "execution_count": 30,
   "id": "de75b645",
   "metadata": {
    "execution": {
     "iopub.execute_input": "2024-12-10T14:16:27.682831Z",
     "iopub.status.busy": "2024-12-10T14:16:27.682373Z",
     "iopub.status.idle": "2024-12-10T14:16:27.721617Z",
     "shell.execute_reply": "2024-12-10T14:16:27.719470Z"
    },
    "papermill": {
     "duration": 0.060007,
     "end_time": "2024-12-10T14:16:27.724436",
     "exception": false,
     "start_time": "2024-12-10T14:16:27.664429",
     "status": "completed"
    },
    "tags": []
   },
   "outputs": [
    {
     "name": "stdout",
     "output_type": "stream",
     "text": [
      "The most common case: good\n"
     ]
    }
   ],
   "source": [
    "most_common = df['condition'].mode()[0]\n",
    "print(f\"The most common case: {most_common}\")"
   ]
  },
  {
   "cell_type": "code",
   "execution_count": 31,
   "id": "bc8a9521",
   "metadata": {
    "execution": {
     "iopub.execute_input": "2024-12-10T14:16:27.755438Z",
     "iopub.status.busy": "2024-12-10T14:16:27.755066Z",
     "iopub.status.idle": "2024-12-10T14:16:28.060655Z",
     "shell.execute_reply": "2024-12-10T14:16:28.058851Z"
    },
    "papermill": {
     "duration": 0.324095,
     "end_time": "2024-12-10T14:16:28.063492",
     "exception": false,
     "start_time": "2024-12-10T14:16:27.739397",
     "status": "completed"
    },
    "tags": []
   },
   "outputs": [
    {
     "data": {
      "image/png": "[encoded data removed]",
      "text/plain": [
       "<Figure size 800x500 with 1 Axes>"
      ]
     },
     "metadata": {},
     "output_type": "display_data"
    }
   ],
   "source": [
    "plt.figure(figsize=(8, 5))\n",
    "df['condition'].value_counts().plot(kind='bar', color='green')\n",
    "plt.title('Most Common Car Conditions')\n",
    "plt.xlabel('Condition')\n",
    "plt.ylabel('Count')\n",
    "# Rotate the x-axis labels\n",
    "plt.xticks(rotation=0)  # Adjust the rotation angle as needed (e.g., 45 or 90)\n",
    "plt.show()"
   ]
  },
  {
   "cell_type": "markdown",
   "id": "f5a6643a",
   "metadata": {
    "papermill": {
     "duration": 0.01602,
     "end_time": "2024-12-10T14:16:28.096351",
     "exception": false,
     "start_time": "2024-12-10T14:16:28.080331",
     "status": "completed"
    },
    "tags": []
   },
   "source": [
    "# What is the distribution of data over time?"
   ]
  },
  {
   "cell_type": "code",
   "execution_count": 32,
   "id": "5349c4b3",
   "metadata": {
    "execution": {
     "iopub.execute_input": "2024-12-10T14:16:28.131652Z",
     "iopub.status.busy": "2024-12-10T14:16:28.130546Z",
     "iopub.status.idle": "2024-12-10T14:16:28.414465Z",
     "shell.execute_reply": "2024-12-10T14:16:28.413294Z"
    },
    "papermill": {
     "duration": 0.304419,
     "end_time": "2024-12-10T14:16:28.416979",
     "exception": false,
     "start_time": "2024-12-10T14:16:28.112560",
     "status": "completed"
    },
    "tags": []
   },
   "outputs": [
    {
     "data": {
      "image/png": "[encoded data removed]",
      "text/plain": [
       "<Figure size 1400x800 with 1 Axes>"
      ]
     },
     "metadata": {},
     "output_type": "display_data"
    }
   ],
   "source": [
    "df['year'] = df['year'].astype(int)\n",
    "yearly_distribution = df.groupby('year')['id'].count()\n",
    "\n",
    "plt.figure(figsize=(14, 8))\n",
    "yearly_distribution.plot(kind='area', color='green', alpha=0.4)\n",
    "plt.title('Car Listings Over the Years')\n",
    "plt.xlabel('Year')\n",
    "plt.ylabel('Number of Cars')\n",
    "plt.show()\n"
   ]
  },
  {
   "cell_type": "markdown",
   "id": "d0cdbfbc",
   "metadata": {
    "papermill": {
     "duration": 0.017138,
     "end_time": "2024-12-10T14:16:28.452492",
     "exception": false,
     "start_time": "2024-12-10T14:16:28.435354",
     "status": "completed"
    },
    "tags": []
   },
   "source": [
    "# What is the relationship between distance traveled and price?"
   ]
  },
  {
   "cell_type": "code",
   "execution_count": 33,
   "id": "16488862",
   "metadata": {
    "execution": {
     "iopub.execute_input": "2024-12-10T14:16:28.489572Z",
     "iopub.status.busy": "2024-12-10T14:16:28.489222Z",
     "iopub.status.idle": "2024-12-10T14:16:28.865060Z",
     "shell.execute_reply": "2024-12-10T14:16:28.863752Z"
    },
    "papermill": {
     "duration": 0.397522,
     "end_time": "2024-12-10T14:16:28.867756",
     "exception": false,
     "start_time": "2024-12-10T14:16:28.470234",
     "status": "completed"
    },
    "tags": []
   },
   "outputs": [
    {
     "data": {
      "image/png": "[encoded data removed]",
      "text/plain": [
       "<Figure size 1200x800 with 1 Axes>"
      ]
     },
     "metadata": {},
     "output_type": "display_data"
    }
   ],
   "source": [
    "plt.figure(figsize=(12, 8))\n",
    "df.groupby('odometer')['price'].mean().plot(kind='line', color='blue')\n",
    "plt.title('Average Price vs Odometer')\n",
    "plt.xlabel('Odometer')\n",
    "plt.ylabel('Average Price')\n",
    "plt.grid(True)\n",
    "plt.show()\n"
   ]
  },
  {
   "cell_type": "markdown",
   "id": "4e764faf",
   "metadata": {
    "papermill": {
     "duration": 0.018808,
     "end_time": "2024-12-10T14:16:28.905033",
     "exception": false,
     "start_time": "2024-12-10T14:16:28.886225",
     "status": "completed"
    },
    "tags": []
   },
   "source": [
    "# How do prices compare between fuel types?"
   ]
  },
  {
   "cell_type": "code",
   "execution_count": 34,
   "id": "eb452eea",
   "metadata": {
    "execution": {
     "iopub.execute_input": "2024-12-10T14:16:28.943936Z",
     "iopub.status.busy": "2024-12-10T14:16:28.943502Z",
     "iopub.status.idle": "2024-12-10T14:16:29.191747Z",
     "shell.execute_reply": "2024-12-10T14:16:29.190524Z"
    },
    "papermill": {
     "duration": 0.270405,
     "end_time": "2024-12-10T14:16:29.194079",
     "exception": false,
     "start_time": "2024-12-10T14:16:28.923674",
     "status": "completed"
    },
    "tags": []
   },
   "outputs": [
    {
     "data": {
      "image/png": "[encoded data removed]",
      "text/plain": [
       "<Figure size 1200x800 with 1 Axes>"
      ]
     },
     "metadata": {},
     "output_type": "display_data"
    }
   ],
   "source": [
    "fuel_price_comparison = df.groupby('fuel')['price'].mean().sort_values()\n",
    "plt.figure(figsize=(12, 8))\n",
    "fuel_price_comparison.plot(kind='bar', color='cyan')\n",
    "plt.title('Average Price by Fuel Type')\n",
    "plt.xlabel('Fuel Type')\n",
    "plt.ylabel('Average Price')\n",
    "# Rotate the x-axis labels\n",
    "plt.xticks(rotation=0)  # Adjust the rotation angle as needed (e.g., 45 or 90)\n",
    "plt.show()\n"
   ]
  },
  {
   "cell_type": "markdown",
   "id": "5eafe215",
   "metadata": {
    "papermill": {
     "duration": 0.018681,
     "end_time": "2024-12-10T14:16:29.231920",
     "exception": false,
     "start_time": "2024-12-10T14:16:29.213239",
     "status": "completed"
    },
    "tags": []
   },
   "source": [
    "# Thanks"
   ]
  }
 ],
 "metadata": {
  "kaggle": {
   "accelerator": "none",
   "dataSources": [
    {
     "datasetId": 62920,
     "sourceId": 2201762,
     "sourceType": "datasetVersion"
    }
   ],
   "isGpuEnabled": false,
   "isInternetEnabled": true,
   "language": "python",
   "sourceType": "notebook"
  },
  "kernelspec": {
   "display_name": "Python 3",
   "language": "python",
   "name": "python3"
  },
  "language_info": {
   "codemirror_mode": {
    "name": "ipython",
    "version": 3
   },
   "file_extension": ".py",
   "mimetype": "text/x-python",
   "name": "python",
   "nbconvert_exporter": "python",
   "pygments_lexer": "ipython3",
   "version": "3.10.14"
  },
  "papermill": {
   "default_parameters": {},
   "duration": 91.828353,
   "end_time": "2024-12-10T14:16:30.676603",
   "environment_variables": {},
   "exception": null,
   "input_path": "__notebook__.ipynb",
   "output_path": "__notebook__.ipynb",
   "parameters": {},
   "start_time": "2024-12-10T14:14:58.848250",
   "version": "2.6.0"
  }
 },
 "nbformat": 4,
 "nbformat_minor": 5
}
